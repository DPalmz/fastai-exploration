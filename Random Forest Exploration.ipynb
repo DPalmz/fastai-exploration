{
 "cells": [
  {
   "cell_type": "markdown",
   "id": "e36f2ffb-20d6-4934-9611-d16f79697a43",
   "metadata": {
    "tags": []
   },
   "source": [
    "# Part 1: Data"
   ]
  },
  {
   "cell_type": "markdown",
   "id": "2d0f3684-8461-4cfb-80f4-ef26c5702661",
   "metadata": {},
   "source": [
    "First, I have to find a dataset that has tabular data and explore its features"
   ]
  },
  {
   "cell_type": "code",
   "execution_count": null,
   "id": "258815bd-961b-440f-981a-96234810bc81",
   "metadata": {},
   "outputs": [],
   "source": []
  },
  {
   "cell_type": "code",
   "execution_count": 1,
   "id": "5b3934e1-fff6-4164-b46d-a872d2927259",
   "metadata": {},
   "outputs": [],
   "source": [
    "from fastai.tabular.all import *\n"
   ]
  },
  {
   "cell_type": "markdown",
   "id": "b8fd13a0-3a61-4633-a6e0-c1c0c94f52fa",
   "metadata": {},
   "source": [
    "This is a mushroom Classification dataset I already had. I decided to play around with analyzing it as if I knew nothing about the data."
   ]
  },
  {
   "cell_type": "code",
   "execution_count": 2,
   "id": "5f5d4b32-e117-4f70-b25f-761fa3ca105b",
   "metadata": {},
   "outputs": [
    {
     "data": {
      "text/html": [
       "<div>\n",
       "<style scoped>\n",
       "    .dataframe tbody tr th:only-of-type {\n",
       "        vertical-align: middle;\n",
       "    }\n",
       "\n",
       "    .dataframe tbody tr th {\n",
       "        vertical-align: top;\n",
       "    }\n",
       "\n",
       "    .dataframe thead th {\n",
       "        text-align: right;\n",
       "    }\n",
       "</style>\n",
       "<table border=\"1\" class=\"dataframe\">\n",
       "  <thead>\n",
       "    <tr style=\"text-align: right;\">\n",
       "      <th></th>\n",
       "      <th>0</th>\n",
       "      <th>1</th>\n",
       "      <th>2</th>\n",
       "      <th>3</th>\n",
       "      <th>4</th>\n",
       "      <th>5</th>\n",
       "      <th>6</th>\n",
       "      <th>7</th>\n",
       "      <th>8</th>\n",
       "      <th>9</th>\n",
       "      <th>...</th>\n",
       "      <th>13</th>\n",
       "      <th>14</th>\n",
       "      <th>15</th>\n",
       "      <th>16</th>\n",
       "      <th>17</th>\n",
       "      <th>18</th>\n",
       "      <th>19</th>\n",
       "      <th>20</th>\n",
       "      <th>21</th>\n",
       "      <th>22</th>\n",
       "    </tr>\n",
       "  </thead>\n",
       "  <tbody>\n",
       "    <tr>\n",
       "      <th>0</th>\n",
       "      <td>p</td>\n",
       "      <td>x</td>\n",
       "      <td>s</td>\n",
       "      <td>n</td>\n",
       "      <td>t</td>\n",
       "      <td>p</td>\n",
       "      <td>f</td>\n",
       "      <td>c</td>\n",
       "      <td>n</td>\n",
       "      <td>k</td>\n",
       "      <td>...</td>\n",
       "      <td>s</td>\n",
       "      <td>w</td>\n",
       "      <td>w</td>\n",
       "      <td>p</td>\n",
       "      <td>w</td>\n",
       "      <td>o</td>\n",
       "      <td>p</td>\n",
       "      <td>k</td>\n",
       "      <td>s</td>\n",
       "      <td>u</td>\n",
       "    </tr>\n",
       "    <tr>\n",
       "      <th>1</th>\n",
       "      <td>e</td>\n",
       "      <td>x</td>\n",
       "      <td>s</td>\n",
       "      <td>y</td>\n",
       "      <td>t</td>\n",
       "      <td>a</td>\n",
       "      <td>f</td>\n",
       "      <td>c</td>\n",
       "      <td>b</td>\n",
       "      <td>k</td>\n",
       "      <td>...</td>\n",
       "      <td>s</td>\n",
       "      <td>w</td>\n",
       "      <td>w</td>\n",
       "      <td>p</td>\n",
       "      <td>w</td>\n",
       "      <td>o</td>\n",
       "      <td>p</td>\n",
       "      <td>n</td>\n",
       "      <td>n</td>\n",
       "      <td>g</td>\n",
       "    </tr>\n",
       "    <tr>\n",
       "      <th>2</th>\n",
       "      <td>e</td>\n",
       "      <td>b</td>\n",
       "      <td>s</td>\n",
       "      <td>w</td>\n",
       "      <td>t</td>\n",
       "      <td>l</td>\n",
       "      <td>f</td>\n",
       "      <td>c</td>\n",
       "      <td>b</td>\n",
       "      <td>n</td>\n",
       "      <td>...</td>\n",
       "      <td>s</td>\n",
       "      <td>w</td>\n",
       "      <td>w</td>\n",
       "      <td>p</td>\n",
       "      <td>w</td>\n",
       "      <td>o</td>\n",
       "      <td>p</td>\n",
       "      <td>n</td>\n",
       "      <td>n</td>\n",
       "      <td>m</td>\n",
       "    </tr>\n",
       "    <tr>\n",
       "      <th>3</th>\n",
       "      <td>p</td>\n",
       "      <td>x</td>\n",
       "      <td>y</td>\n",
       "      <td>w</td>\n",
       "      <td>t</td>\n",
       "      <td>p</td>\n",
       "      <td>f</td>\n",
       "      <td>c</td>\n",
       "      <td>n</td>\n",
       "      <td>n</td>\n",
       "      <td>...</td>\n",
       "      <td>s</td>\n",
       "      <td>w</td>\n",
       "      <td>w</td>\n",
       "      <td>p</td>\n",
       "      <td>w</td>\n",
       "      <td>o</td>\n",
       "      <td>p</td>\n",
       "      <td>k</td>\n",
       "      <td>s</td>\n",
       "      <td>u</td>\n",
       "    </tr>\n",
       "    <tr>\n",
       "      <th>4</th>\n",
       "      <td>e</td>\n",
       "      <td>x</td>\n",
       "      <td>s</td>\n",
       "      <td>g</td>\n",
       "      <td>f</td>\n",
       "      <td>n</td>\n",
       "      <td>f</td>\n",
       "      <td>w</td>\n",
       "      <td>b</td>\n",
       "      <td>k</td>\n",
       "      <td>...</td>\n",
       "      <td>s</td>\n",
       "      <td>w</td>\n",
       "      <td>w</td>\n",
       "      <td>p</td>\n",
       "      <td>w</td>\n",
       "      <td>o</td>\n",
       "      <td>e</td>\n",
       "      <td>n</td>\n",
       "      <td>a</td>\n",
       "      <td>g</td>\n",
       "    </tr>\n",
       "    <tr>\n",
       "      <th>...</th>\n",
       "      <td>...</td>\n",
       "      <td>...</td>\n",
       "      <td>...</td>\n",
       "      <td>...</td>\n",
       "      <td>...</td>\n",
       "      <td>...</td>\n",
       "      <td>...</td>\n",
       "      <td>...</td>\n",
       "      <td>...</td>\n",
       "      <td>...</td>\n",
       "      <td>...</td>\n",
       "      <td>...</td>\n",
       "      <td>...</td>\n",
       "      <td>...</td>\n",
       "      <td>...</td>\n",
       "      <td>...</td>\n",
       "      <td>...</td>\n",
       "      <td>...</td>\n",
       "      <td>...</td>\n",
       "      <td>...</td>\n",
       "      <td>...</td>\n",
       "    </tr>\n",
       "    <tr>\n",
       "      <th>8119</th>\n",
       "      <td>e</td>\n",
       "      <td>k</td>\n",
       "      <td>s</td>\n",
       "      <td>n</td>\n",
       "      <td>f</td>\n",
       "      <td>n</td>\n",
       "      <td>a</td>\n",
       "      <td>c</td>\n",
       "      <td>b</td>\n",
       "      <td>y</td>\n",
       "      <td>...</td>\n",
       "      <td>s</td>\n",
       "      <td>o</td>\n",
       "      <td>o</td>\n",
       "      <td>p</td>\n",
       "      <td>o</td>\n",
       "      <td>o</td>\n",
       "      <td>p</td>\n",
       "      <td>b</td>\n",
       "      <td>c</td>\n",
       "      <td>l</td>\n",
       "    </tr>\n",
       "    <tr>\n",
       "      <th>8120</th>\n",
       "      <td>e</td>\n",
       "      <td>x</td>\n",
       "      <td>s</td>\n",
       "      <td>n</td>\n",
       "      <td>f</td>\n",
       "      <td>n</td>\n",
       "      <td>a</td>\n",
       "      <td>c</td>\n",
       "      <td>b</td>\n",
       "      <td>y</td>\n",
       "      <td>...</td>\n",
       "      <td>s</td>\n",
       "      <td>o</td>\n",
       "      <td>o</td>\n",
       "      <td>p</td>\n",
       "      <td>n</td>\n",
       "      <td>o</td>\n",
       "      <td>p</td>\n",
       "      <td>b</td>\n",
       "      <td>v</td>\n",
       "      <td>l</td>\n",
       "    </tr>\n",
       "    <tr>\n",
       "      <th>8121</th>\n",
       "      <td>e</td>\n",
       "      <td>f</td>\n",
       "      <td>s</td>\n",
       "      <td>n</td>\n",
       "      <td>f</td>\n",
       "      <td>n</td>\n",
       "      <td>a</td>\n",
       "      <td>c</td>\n",
       "      <td>b</td>\n",
       "      <td>n</td>\n",
       "      <td>...</td>\n",
       "      <td>s</td>\n",
       "      <td>o</td>\n",
       "      <td>o</td>\n",
       "      <td>p</td>\n",
       "      <td>o</td>\n",
       "      <td>o</td>\n",
       "      <td>p</td>\n",
       "      <td>b</td>\n",
       "      <td>c</td>\n",
       "      <td>l</td>\n",
       "    </tr>\n",
       "    <tr>\n",
       "      <th>8122</th>\n",
       "      <td>p</td>\n",
       "      <td>k</td>\n",
       "      <td>y</td>\n",
       "      <td>n</td>\n",
       "      <td>f</td>\n",
       "      <td>y</td>\n",
       "      <td>f</td>\n",
       "      <td>c</td>\n",
       "      <td>n</td>\n",
       "      <td>b</td>\n",
       "      <td>...</td>\n",
       "      <td>k</td>\n",
       "      <td>w</td>\n",
       "      <td>w</td>\n",
       "      <td>p</td>\n",
       "      <td>w</td>\n",
       "      <td>o</td>\n",
       "      <td>e</td>\n",
       "      <td>w</td>\n",
       "      <td>v</td>\n",
       "      <td>l</td>\n",
       "    </tr>\n",
       "    <tr>\n",
       "      <th>8123</th>\n",
       "      <td>e</td>\n",
       "      <td>x</td>\n",
       "      <td>s</td>\n",
       "      <td>n</td>\n",
       "      <td>f</td>\n",
       "      <td>n</td>\n",
       "      <td>a</td>\n",
       "      <td>c</td>\n",
       "      <td>b</td>\n",
       "      <td>y</td>\n",
       "      <td>...</td>\n",
       "      <td>s</td>\n",
       "      <td>o</td>\n",
       "      <td>o</td>\n",
       "      <td>p</td>\n",
       "      <td>o</td>\n",
       "      <td>o</td>\n",
       "      <td>p</td>\n",
       "      <td>o</td>\n",
       "      <td>c</td>\n",
       "      <td>l</td>\n",
       "    </tr>\n",
       "  </tbody>\n",
       "</table>\n",
       "<p>8124 rows × 23 columns</p>\n",
       "</div>"
      ],
      "text/plain": [
       "     0  1  2  3  4  5  6  7  8  9   ... 13 14 15 16 17 18 19 20 21 22\n",
       "0     p  x  s  n  t  p  f  c  n  k  ...  s  w  w  p  w  o  p  k  s  u\n",
       "1     e  x  s  y  t  a  f  c  b  k  ...  s  w  w  p  w  o  p  n  n  g\n",
       "2     e  b  s  w  t  l  f  c  b  n  ...  s  w  w  p  w  o  p  n  n  m\n",
       "3     p  x  y  w  t  p  f  c  n  n  ...  s  w  w  p  w  o  p  k  s  u\n",
       "4     e  x  s  g  f  n  f  w  b  k  ...  s  w  w  p  w  o  e  n  a  g\n",
       "...  .. .. .. .. .. .. .. .. .. ..  ... .. .. .. .. .. .. .. .. .. ..\n",
       "8119  e  k  s  n  f  n  a  c  b  y  ...  s  o  o  p  o  o  p  b  c  l\n",
       "8120  e  x  s  n  f  n  a  c  b  y  ...  s  o  o  p  n  o  p  b  v  l\n",
       "8121  e  f  s  n  f  n  a  c  b  n  ...  s  o  o  p  o  o  p  b  c  l\n",
       "8122  p  k  y  n  f  y  f  c  n  b  ...  k  w  w  p  w  o  e  w  v  l\n",
       "8123  e  x  s  n  f  n  a  c  b  y  ...  s  o  o  p  o  o  p  o  c  l\n",
       "\n",
       "[8124 rows x 23 columns]"
      ]
     },
     "execution_count": 2,
     "metadata": {},
     "output_type": "execute_result"
    }
   ],
   "source": [
    "df = pd.read_csv(\"agaricus-lepiota.csv\", header=None)\n",
    "df"
   ]
  },
  {
   "cell_type": "code",
   "execution_count": 3,
   "id": "51ee5e27-2526-4fd3-8f10-4496d4336f30",
   "metadata": {},
   "outputs": [],
   "source": [
    "mushroomRows = ['edible or poisonous', 'cap shape', 'cap surface', ' cap color', 'bruises', 'odor', 'gill attachment', 'gill spacing', 'gill size', 'gill color', 'stalk shape', 'stalk root', \n",
    "                'stalk surface above the ring', 'stalk surface below the ring', 'stalk color below the ring', 'stalk color above the ring', 'veil type', 'veil color', \n",
    "                'ring number', 'ring type', 'spore print color', 'population', 'habitat'] #names of categories for mushrooms"
   ]
  },
  {
   "cell_type": "code",
   "execution_count": null,
   "id": "675220fc-419a-497c-bbf7-8de9dbbdeca8",
   "metadata": {},
   "outputs": [],
   "source": []
  },
  {
   "cell_type": "code",
   "execution_count": 4,
   "id": "df744141-a0f9-42fd-81b3-842e4db71e83",
   "metadata": {},
   "outputs": [],
   "source": [
    "df.columns = mushroomRows"
   ]
  },
  {
   "cell_type": "code",
   "execution_count": 5,
   "id": "4bbe1816-6c84-4d93-8bb1-d73d240ce011",
   "metadata": {},
   "outputs": [
    {
     "data": {
      "text/plain": [
       "<bound method DataFrame.info of      edible or poisonous cap shape cap surface  cap color bruises odor  \\\n",
       "0                      p         x           s          n       t    p   \n",
       "1                      e         x           s          y       t    a   \n",
       "2                      e         b           s          w       t    l   \n",
       "3                      p         x           y          w       t    p   \n",
       "4                      e         x           s          g       f    n   \n",
       "...                  ...       ...         ...        ...     ...  ...   \n",
       "8119                   e         k           s          n       f    n   \n",
       "8120                   e         x           s          n       f    n   \n",
       "8121                   e         f           s          n       f    n   \n",
       "8122                   p         k           y          n       f    y   \n",
       "8123                   e         x           s          n       f    n   \n",
       "\n",
       "     gill attachment gill spacing gill size gill color  ...  \\\n",
       "0                  f            c         n          k  ...   \n",
       "1                  f            c         b          k  ...   \n",
       "2                  f            c         b          n  ...   \n",
       "3                  f            c         n          n  ...   \n",
       "4                  f            w         b          k  ...   \n",
       "...              ...          ...       ...        ...  ...   \n",
       "8119               a            c         b          y  ...   \n",
       "8120               a            c         b          y  ...   \n",
       "8121               a            c         b          n  ...   \n",
       "8122               f            c         n          b  ...   \n",
       "8123               a            c         b          y  ...   \n",
       "\n",
       "     stalk surface below the ring stalk color below the ring  \\\n",
       "0                               s                          w   \n",
       "1                               s                          w   \n",
       "2                               s                          w   \n",
       "3                               s                          w   \n",
       "4                               s                          w   \n",
       "...                           ...                        ...   \n",
       "8119                            s                          o   \n",
       "8120                            s                          o   \n",
       "8121                            s                          o   \n",
       "8122                            k                          w   \n",
       "8123                            s                          o   \n",
       "\n",
       "     stalk color above the ring veil type veil color ring number ring type  \\\n",
       "0                             w         p          w           o         p   \n",
       "1                             w         p          w           o         p   \n",
       "2                             w         p          w           o         p   \n",
       "3                             w         p          w           o         p   \n",
       "4                             w         p          w           o         e   \n",
       "...                         ...       ...        ...         ...       ...   \n",
       "8119                          o         p          o           o         p   \n",
       "8120                          o         p          n           o         p   \n",
       "8121                          o         p          o           o         p   \n",
       "8122                          w         p          w           o         e   \n",
       "8123                          o         p          o           o         p   \n",
       "\n",
       "     spore print color population habitat  \n",
       "0                    k          s       u  \n",
       "1                    n          n       g  \n",
       "2                    n          n       m  \n",
       "3                    k          s       u  \n",
       "4                    n          a       g  \n",
       "...                ...        ...     ...  \n",
       "8119                 b          c       l  \n",
       "8120                 b          v       l  \n",
       "8121                 b          c       l  \n",
       "8122                 w          v       l  \n",
       "8123                 o          c       l  \n",
       "\n",
       "[8124 rows x 23 columns]>"
      ]
     },
     "execution_count": 5,
     "metadata": {},
     "output_type": "execute_result"
    }
   ],
   "source": [
    "df.info"
   ]
  },
  {
   "cell_type": "code",
   "execution_count": 6,
   "id": "b4306b76-9658-4d54-8863-67f758e55a4c",
   "metadata": {},
   "outputs": [
    {
     "data": {
      "text/plain": [
       "array(['s', 'n', 'a', 'v', 'y', 'c'], dtype=object)"
      ]
     },
     "execution_count": 6,
     "metadata": {},
     "output_type": "execute_result"
    }
   ],
   "source": [
    "df.population.unique()"
   ]
  },
  {
   "cell_type": "code",
   "execution_count": 7,
   "id": "6a45ad4b-e137-49a3-8de1-1ea7b62c118f",
   "metadata": {},
   "outputs": [
    {
     "data": {
      "text/plain": [
       "array(['x', 'b', 's', 'f', 'k', 'c'], dtype=object)"
      ]
     },
     "execution_count": 7,
     "metadata": {},
     "output_type": "execute_result"
    }
   ],
   "source": [
    "df[\"cap shape\"].unique()"
   ]
  },
  {
   "cell_type": "code",
   "execution_count": 8,
   "id": "0c567cdb-2ca4-420a-8113-8d13de2ad2cf",
   "metadata": {},
   "outputs": [],
   "source": [
    "df[mushroomRows] = df[mushroomRows].astype('category')"
   ]
  },
  {
   "cell_type": "code",
   "execution_count": 9,
   "id": "39a6d770-8357-4b57-b505-4e8fae38610c",
   "metadata": {},
   "outputs": [
    {
     "name": "stdout",
     "output_type": "stream",
     "text": [
      "<class 'pandas.core.series.Series'>\n",
      "RangeIndex: 8124 entries, 0 to 8123\n",
      "Series name: edible or poisonous\n",
      "Non-Null Count  Dtype   \n",
      "--------------  -----   \n",
      "8124 non-null   category\n",
      "dtypes: category(1)\n",
      "memory usage: 8.2 KB\n"
     ]
    }
   ],
   "source": [
    "df[mushroomRows[0]].info()"
   ]
  },
  {
   "cell_type": "code",
   "execution_count": 10,
   "id": "2e1b9633-2962-4326-ab93-9bb55fefda9d",
   "metadata": {},
   "outputs": [
    {
     "name": "stdout",
     "output_type": "stream",
     "text": [
      "<class 'pandas.core.series.Series'>\n",
      "RangeIndex: 8124 entries, 0 to 8123\n",
      "Series name: edible or poisonous\n",
      "Non-Null Count  Dtype   \n",
      "--------------  -----   \n",
      "8124 non-null   category\n",
      "dtypes: category(1)\n",
      "memory usage: 8.2 KB\n"
     ]
    }
   ],
   "source": [
    "df[mushroomRows[0]].info()"
   ]
  },
  {
   "cell_type": "code",
   "execution_count": 11,
   "id": "1a72a833-b4e4-43ec-baeb-d9c0012bbaab",
   "metadata": {},
   "outputs": [
    {
     "data": {
      "text/plain": [
       "0    1\n",
       "1    0\n",
       "2    0\n",
       "3    1\n",
       "4    0\n",
       "dtype: int8"
      ]
     },
     "execution_count": 11,
     "metadata": {},
     "output_type": "execute_result"
    }
   ],
   "source": [
    "df[mushroomRows[0]].cat.codes.head()"
   ]
  },
  {
   "cell_type": "code",
   "execution_count": 12,
   "id": "303590ea-1c29-4f67-b106-47797e765aae",
   "metadata": {},
   "outputs": [
    {
     "data": {
      "text/plain": [
       "[Text(0.5, 1.0, 'Dependent Variable: Edible or Poisonous')]"
      ]
     },
     "execution_count": 12,
     "metadata": {},
     "output_type": "execute_result"
    },
    {
     "data": {
      "image/png": "[encoded data removed]",
      "text/plain": [
       "<Figure size 432x288 with 1 Axes>"
      ]
     },
     "metadata": {
      "needs_background": "light"
     },
     "output_type": "display_data"
    }
   ],
   "source": [
    "import seaborn as sns\n",
    "\n",
    "sns.countplot(data=df, x=mushroomRows[0]).set(title=\"Dependent Variable: Edible or Poisonous\")"
   ]
  },
  {
   "cell_type": "markdown",
   "id": "83a7361a-8448-4cb5-bbac-fae78feb05a5",
   "metadata": {},
   "source": [
    "Now I know the data has about an even split for edible and poisonous mushrooms, I can look at some of the other columns and see how the categories fair there."
   ]
  },
  {
   "cell_type": "code",
   "execution_count": 13,
   "id": "9f70ee7c-6943-4aa0-ae36-76d3abe702f7",
   "metadata": {},
   "outputs": [
    {
     "data": {
      "text/plain": [
       "<AxesSubplot:xlabel=' cap color', ylabel='count'>"
      ]
     },
     "execution_count": 13,
     "metadata": {},
     "output_type": "execute_result"
    },
    {
     "data": {
      "image/png": "[encoded data removed]",
      "text/plain": [
       "<Figure size 432x288 with 1 Axes>"
      ]
     },
     "metadata": {
      "needs_background": "light"
     },
     "output_type": "display_data"
    }
   ],
   "source": [
    "sns.countplot(data=df, x=mushroomRows[3])"
   ]
  },
  {
   "cell_type": "code",
   "execution_count": 14,
   "id": "70706d66-c9cf-4602-92ec-32bbb7a85b78",
   "metadata": {},
   "outputs": [
    {
     "data": {
      "text/plain": [
       "<AxesSubplot:xlabel='stalk color below the ring', ylabel='count'>"
      ]
     },
     "execution_count": 14,
     "metadata": {},
     "output_type": "execute_result"
    },
    {
     "data": {
      "image/png": "[encoded data removed]",
      "text/plain": [
       "<Figure size 432x288 with 1 Axes>"
      ]
     },
     "metadata": {
      "needs_background": "light"
     },
     "output_type": "display_data"
    }
   ],
   "source": [
    "sns.countplot(data=df, x=mushroomRows[14])"
   ]
  },
  {
   "cell_type": "code",
   "execution_count": 15,
   "id": "8b013082-b1c7-4b1c-80fc-de9731dbb191",
   "metadata": {},
   "outputs": [
    {
     "data": {
      "text/plain": [
       "<AxesSubplot:xlabel='spore print color', ylabel='count'>"
      ]
     },
     "execution_count": 15,
     "metadata": {},
     "output_type": "execute_result"
    },
    {
     "data": {
      "image/png": "[encoded data removed]",
      "text/plain": [
       "<Figure size 432x288 with 1 Axes>"
      ]
     },
     "metadata": {
      "needs_background": "light"
     },
     "output_type": "display_data"
    }
   ],
   "source": [
    "sns.countplot(data=df, x=mushroomRows[20])"
   ]
  },
  {
   "cell_type": "markdown",
   "id": "f70f99db-e72b-4901-a8b9-896487ae9773",
   "metadata": {},
   "source": [
    "Just taking a look at a few columns, it's pretty clear that most have wildly uneven distributions."
   ]
  },
  {
   "cell_type": "code",
   "execution_count": 16,
   "id": "6811cd09-c77d-4bbe-a808-c207fb6cfdfa",
   "metadata": {},
   "outputs": [],
   "source": [
    "from numpy import random\n",
    "from sklearn.model_selection import train_test_split\n",
    "\n",
    "random.seed(42)\n",
    "trn_df,val_df = train_test_split(df, test_size=0.25)\n",
    "trn_df[mushroomRows] = trn_df[mushroomRows].apply(lambda x: x.cat.codes)\n",
    "val_df[mushroomRows] = val_df[mushroomRows].apply(lambda x: x.cat.codes)"
   ]
  },
  {
   "cell_type": "code",
   "execution_count": 17,
   "id": "da364093-ff4c-4b5c-ad4b-b7db9578bca3",
   "metadata": {},
   "outputs": [
    {
     "data": {
      "text/html": [
       "<div>\n",
       "<style scoped>\n",
       "    .dataframe tbody tr th:only-of-type {\n",
       "        vertical-align: middle;\n",
       "    }\n",
       "\n",
       "    .dataframe tbody tr th {\n",
       "        vertical-align: top;\n",
       "    }\n",
       "\n",
       "    .dataframe thead th {\n",
       "        text-align: right;\n",
       "    }\n",
       "</style>\n",
       "<table border=\"1\" class=\"dataframe\">\n",
       "  <thead>\n",
       "    <tr style=\"text-align: right;\">\n",
       "      <th></th>\n",
       "      <th>edible or poisonous</th>\n",
       "      <th>cap shape</th>\n",
       "      <th>cap surface</th>\n",
       "      <th>cap color</th>\n",
       "      <th>bruises</th>\n",
       "      <th>odor</th>\n",
       "      <th>gill attachment</th>\n",
       "      <th>gill spacing</th>\n",
       "      <th>gill size</th>\n",
       "      <th>gill color</th>\n",
       "      <th>...</th>\n",
       "      <th>stalk surface below the ring</th>\n",
       "      <th>stalk color below the ring</th>\n",
       "      <th>stalk color above the ring</th>\n",
       "      <th>veil type</th>\n",
       "      <th>veil color</th>\n",
       "      <th>ring number</th>\n",
       "      <th>ring type</th>\n",
       "      <th>spore print color</th>\n",
       "      <th>population</th>\n",
       "      <th>habitat</th>\n",
       "    </tr>\n",
       "  </thead>\n",
       "  <tbody>\n",
       "    <tr>\n",
       "      <th>3887</th>\n",
       "      <td>1</td>\n",
       "      <td>5</td>\n",
       "      <td>2</td>\n",
       "      <td>8</td>\n",
       "      <td>0</td>\n",
       "      <td>1</td>\n",
       "      <td>1</td>\n",
       "      <td>0</td>\n",
       "      <td>1</td>\n",
       "      <td>5</td>\n",
       "      <td>...</td>\n",
       "      <td>2</td>\n",
       "      <td>7</td>\n",
       "      <td>7</td>\n",
       "      <td>0</td>\n",
       "      <td>2</td>\n",
       "      <td>1</td>\n",
       "      <td>4</td>\n",
       "      <td>3</td>\n",
       "      <td>3</td>\n",
       "      <td>0</td>\n",
       "    </tr>\n",
       "    <tr>\n",
       "      <th>4119</th>\n",
       "      <td>1</td>\n",
       "      <td>2</td>\n",
       "      <td>0</td>\n",
       "      <td>9</td>\n",
       "      <td>0</td>\n",
       "      <td>2</td>\n",
       "      <td>1</td>\n",
       "      <td>0</td>\n",
       "      <td>0</td>\n",
       "      <td>3</td>\n",
       "      <td>...</td>\n",
       "      <td>1</td>\n",
       "      <td>4</td>\n",
       "      <td>0</td>\n",
       "      <td>0</td>\n",
       "      <td>2</td>\n",
       "      <td>1</td>\n",
       "      <td>2</td>\n",
       "      <td>1</td>\n",
       "      <td>4</td>\n",
       "      <td>1</td>\n",
       "    </tr>\n",
       "    <tr>\n",
       "      <th>1600</th>\n",
       "      <td>0</td>\n",
       "      <td>5</td>\n",
       "      <td>3</td>\n",
       "      <td>3</td>\n",
       "      <td>1</td>\n",
       "      <td>5</td>\n",
       "      <td>1</td>\n",
       "      <td>0</td>\n",
       "      <td>0</td>\n",
       "      <td>5</td>\n",
       "      <td>...</td>\n",
       "      <td>2</td>\n",
       "      <td>6</td>\n",
       "      <td>3</td>\n",
       "      <td>0</td>\n",
       "      <td>2</td>\n",
       "      <td>1</td>\n",
       "      <td>4</td>\n",
       "      <td>2</td>\n",
       "      <td>5</td>\n",
       "      <td>0</td>\n",
       "    </tr>\n",
       "    <tr>\n",
       "      <th>4988</th>\n",
       "      <td>1</td>\n",
       "      <td>5</td>\n",
       "      <td>3</td>\n",
       "      <td>9</td>\n",
       "      <td>0</td>\n",
       "      <td>2</td>\n",
       "      <td>1</td>\n",
       "      <td>0</td>\n",
       "      <td>0</td>\n",
       "      <td>7</td>\n",
       "      <td>...</td>\n",
       "      <td>1</td>\n",
       "      <td>4</td>\n",
       "      <td>4</td>\n",
       "      <td>0</td>\n",
       "      <td>2</td>\n",
       "      <td>1</td>\n",
       "      <td>2</td>\n",
       "      <td>1</td>\n",
       "      <td>5</td>\n",
       "      <td>4</td>\n",
       "    </tr>\n",
       "    <tr>\n",
       "      <th>6757</th>\n",
       "      <td>1</td>\n",
       "      <td>2</td>\n",
       "      <td>3</td>\n",
       "      <td>4</td>\n",
       "      <td>0</td>\n",
       "      <td>2</td>\n",
       "      <td>1</td>\n",
       "      <td>0</td>\n",
       "      <td>1</td>\n",
       "      <td>0</td>\n",
       "      <td>...</td>\n",
       "      <td>1</td>\n",
       "      <td>7</td>\n",
       "      <td>6</td>\n",
       "      <td>0</td>\n",
       "      <td>2</td>\n",
       "      <td>1</td>\n",
       "      <td>0</td>\n",
       "      <td>7</td>\n",
       "      <td>4</td>\n",
       "      <td>0</td>\n",
       "    </tr>\n",
       "    <tr>\n",
       "      <th>...</th>\n",
       "      <td>...</td>\n",
       "      <td>...</td>\n",
       "      <td>...</td>\n",
       "      <td>...</td>\n",
       "      <td>...</td>\n",
       "      <td>...</td>\n",
       "      <td>...</td>\n",
       "      <td>...</td>\n",
       "      <td>...</td>\n",
       "      <td>...</td>\n",
       "      <td>...</td>\n",
       "      <td>...</td>\n",
       "      <td>...</td>\n",
       "      <td>...</td>\n",
       "      <td>...</td>\n",
       "      <td>...</td>\n",
       "      <td>...</td>\n",
       "      <td>...</td>\n",
       "      <td>...</td>\n",
       "      <td>...</td>\n",
       "      <td>...</td>\n",
       "    </tr>\n",
       "    <tr>\n",
       "      <th>5226</th>\n",
       "      <td>1</td>\n",
       "      <td>5</td>\n",
       "      <td>3</td>\n",
       "      <td>4</td>\n",
       "      <td>0</td>\n",
       "      <td>2</td>\n",
       "      <td>1</td>\n",
       "      <td>0</td>\n",
       "      <td>1</td>\n",
       "      <td>0</td>\n",
       "      <td>...</td>\n",
       "      <td>2</td>\n",
       "      <td>6</td>\n",
       "      <td>7</td>\n",
       "      <td>0</td>\n",
       "      <td>2</td>\n",
       "      <td>1</td>\n",
       "      <td>0</td>\n",
       "      <td>7</td>\n",
       "      <td>4</td>\n",
       "      <td>4</td>\n",
       "    </tr>\n",
       "    <tr>\n",
       "      <th>5390</th>\n",
       "      <td>0</td>\n",
       "      <td>3</td>\n",
       "      <td>3</td>\n",
       "      <td>2</td>\n",
       "      <td>1</td>\n",
       "      <td>5</td>\n",
       "      <td>1</td>\n",
       "      <td>0</td>\n",
       "      <td>0</td>\n",
       "      <td>10</td>\n",
       "      <td>...</td>\n",
       "      <td>2</td>\n",
       "      <td>7</td>\n",
       "      <td>2</td>\n",
       "      <td>0</td>\n",
       "      <td>2</td>\n",
       "      <td>2</td>\n",
       "      <td>0</td>\n",
       "      <td>7</td>\n",
       "      <td>1</td>\n",
       "      <td>6</td>\n",
       "    </tr>\n",
       "    <tr>\n",
       "      <th>860</th>\n",
       "      <td>0</td>\n",
       "      <td>2</td>\n",
       "      <td>3</td>\n",
       "      <td>4</td>\n",
       "      <td>1</td>\n",
       "      <td>3</td>\n",
       "      <td>1</td>\n",
       "      <td>0</td>\n",
       "      <td>0</td>\n",
       "      <td>10</td>\n",
       "      <td>...</td>\n",
       "      <td>3</td>\n",
       "      <td>7</td>\n",
       "      <td>7</td>\n",
       "      <td>0</td>\n",
       "      <td>2</td>\n",
       "      <td>1</td>\n",
       "      <td>4</td>\n",
       "      <td>3</td>\n",
       "      <td>5</td>\n",
       "      <td>4</td>\n",
       "    </tr>\n",
       "    <tr>\n",
       "      <th>7603</th>\n",
       "      <td>1</td>\n",
       "      <td>3</td>\n",
       "      <td>2</td>\n",
       "      <td>2</td>\n",
       "      <td>0</td>\n",
       "      <td>2</td>\n",
       "      <td>1</td>\n",
       "      <td>0</td>\n",
       "      <td>1</td>\n",
       "      <td>0</td>\n",
       "      <td>...</td>\n",
       "      <td>2</td>\n",
       "      <td>6</td>\n",
       "      <td>6</td>\n",
       "      <td>0</td>\n",
       "      <td>2</td>\n",
       "      <td>1</td>\n",
       "      <td>0</td>\n",
       "      <td>7</td>\n",
       "      <td>4</td>\n",
       "      <td>4</td>\n",
       "    </tr>\n",
       "    <tr>\n",
       "      <th>7270</th>\n",
       "      <td>0</td>\n",
       "      <td>3</td>\n",
       "      <td>0</td>\n",
       "      <td>3</td>\n",
       "      <td>0</td>\n",
       "      <td>5</td>\n",
       "      <td>1</td>\n",
       "      <td>1</td>\n",
       "      <td>0</td>\n",
       "      <td>2</td>\n",
       "      <td>...</td>\n",
       "      <td>1</td>\n",
       "      <td>7</td>\n",
       "      <td>7</td>\n",
       "      <td>0</td>\n",
       "      <td>2</td>\n",
       "      <td>2</td>\n",
       "      <td>4</td>\n",
       "      <td>7</td>\n",
       "      <td>2</td>\n",
       "      <td>1</td>\n",
       "    </tr>\n",
       "  </tbody>\n",
       "</table>\n",
       "<p>6093 rows × 23 columns</p>\n",
       "</div>"
      ],
      "text/plain": [
       "      edible or poisonous  cap shape  cap surface   cap color  bruises  odor  \\\n",
       "3887                    1          5            2           8        0     1   \n",
       "4119                    1          2            0           9        0     2   \n",
       "1600                    0          5            3           3        1     5   \n",
       "4988                    1          5            3           9        0     2   \n",
       "6757                    1          2            3           4        0     2   \n",
       "...                   ...        ...          ...         ...      ...   ...   \n",
       "5226                    1          5            3           4        0     2   \n",
       "5390                    0          3            3           2        1     5   \n",
       "860                     0          2            3           4        1     3   \n",
       "7603                    1          3            2           2        0     2   \n",
       "7270                    0          3            0           3        0     5   \n",
       "\n",
       "      gill attachment  gill spacing  gill size  gill color  ...  \\\n",
       "3887                1             0          1           5  ...   \n",
       "4119                1             0          0           3  ...   \n",
       "1600                1             0          0           5  ...   \n",
       "4988                1             0          0           7  ...   \n",
       "6757                1             0          1           0  ...   \n",
       "...               ...           ...        ...         ...  ...   \n",
       "5226                1             0          1           0  ...   \n",
       "5390                1             0          0          10  ...   \n",
       "860                 1             0          0          10  ...   \n",
       "7603                1             0          1           0  ...   \n",
       "7270                1             1          0           2  ...   \n",
       "\n",
       "      stalk surface below the ring  stalk color below the ring  \\\n",
       "3887                             2                           7   \n",
       "4119                             1                           4   \n",
       "1600                             2                           6   \n",
       "4988                             1                           4   \n",
       "6757                             1                           7   \n",
       "...                            ...                         ...   \n",
       "5226                             2                           6   \n",
       "5390                             2                           7   \n",
       "860                              3                           7   \n",
       "7603                             2                           6   \n",
       "7270                             1                           7   \n",
       "\n",
       "      stalk color above the ring  veil type  veil color  ring number  \\\n",
       "3887                           7          0           2            1   \n",
       "4119                           0          0           2            1   \n",
       "1600                           3          0           2            1   \n",
       "4988                           4          0           2            1   \n",
       "6757                           6          0           2            1   \n",
       "...                          ...        ...         ...          ...   \n",
       "5226                           7          0           2            1   \n",
       "5390                           2          0           2            2   \n",
       "860                            7          0           2            1   \n",
       "7603                           6          0           2            1   \n",
       "7270                           7          0           2            2   \n",
       "\n",
       "      ring type  spore print color  population  habitat  \n",
       "3887          4                  3           3        0  \n",
       "4119          2                  1           4        1  \n",
       "1600          4                  2           5        0  \n",
       "4988          2                  1           5        4  \n",
       "6757          0                  7           4        0  \n",
       "...         ...                ...         ...      ...  \n",
       "5226          0                  7           4        4  \n",
       "5390          0                  7           1        6  \n",
       "860           4                  3           5        4  \n",
       "7603          0                  7           4        4  \n",
       "7270          4                  7           2        1  \n",
       "\n",
       "[6093 rows x 23 columns]"
      ]
     },
     "execution_count": 17,
     "metadata": {},
     "output_type": "execute_result"
    }
   ],
   "source": [
    "trn_df"
   ]
  },
  {
   "cell_type": "code",
   "execution_count": 18,
   "id": "ad92a0d5-ef6e-403b-92ff-db791f145161",
   "metadata": {},
   "outputs": [],
   "source": [
    "cont,cat = cont_cat_split(df, 1, dep_var=mushroomRows[0])"
   ]
  },
  {
   "cell_type": "code",
   "execution_count": 19,
   "id": "42b4c98f-6cea-4256-a347-4396154382cc",
   "metadata": {},
   "outputs": [
    {
     "data": {
      "text/plain": [
       "Int64Index([3887, 4119, 1600, 4988, 6757, 3128, 5891, 6838, 4617, 3761,\n",
       "            ...\n",
       "            6265, 5734, 3092, 3772, 5191, 5226, 5390,  860, 7603, 7270],\n",
       "           dtype='int64', length=6093)"
      ]
     },
     "execution_count": 19,
     "metadata": {},
     "output_type": "execute_result"
    }
   ],
   "source": [
    "trn_df.index"
   ]
  },
  {
   "cell_type": "code",
   "execution_count": 20,
   "id": "dea071e3-00fc-498c-acb6-4deeb0366a11",
   "metadata": {},
   "outputs": [],
   "source": [
    "splits = (list(trn_df.index), list(val_df.index))"
   ]
  },
  {
   "cell_type": "code",
   "execution_count": 21,
   "id": "3668de92-7e08-412d-aa10-5da3f49cd501",
   "metadata": {},
   "outputs": [],
   "source": [
    "procs = [Categorify, FillMissing]"
   ]
  },
  {
   "cell_type": "code",
   "execution_count": 22,
   "id": "2726059e-160b-4ba8-a47c-8ef4195a4c40",
   "metadata": {},
   "outputs": [],
   "source": [
    "to = TabularPandas(df, procs, cat, cont, y_names=mushroomRows[0], splits=splits)"
   ]
  },
  {
   "cell_type": "code",
   "execution_count": 23,
   "id": "8ed3f4a8-294a-417d-b714-0a5d49d0c2c2",
   "metadata": {},
   "outputs": [],
   "source": [
    "save_pickle('mushroom.pkl',to)"
   ]
  },
  {
   "cell_type": "code",
   "execution_count": 24,
   "id": "ba47c686-4de4-4e70-ba68-5556254987a6",
   "metadata": {},
   "outputs": [],
   "source": [
    "## Part 2: Random Forest "
   ]
  },
  {
   "cell_type": "code",
   "execution_count": 25,
   "id": "43a557a4-be31-44e1-9997-67de73a6f8ac",
   "metadata": {},
   "outputs": [],
   "source": [
    "mushroom = load_pickle('mushroom.pkl')"
   ]
  },
  {
   "cell_type": "code",
   "execution_count": 26,
   "id": "42f2301a-1b74-4cca-ae56-c60078013d10",
   "metadata": {},
   "outputs": [],
   "source": [
    "xs,y = to.train.xs,to.train.y\n",
    "valid_xs,valid_y = to.valid.xs,to.valid.y"
   ]
  },
  {
   "cell_type": "code",
   "execution_count": 27,
   "id": "a4145fad-f895-464f-8723-4ffd658a8e98",
   "metadata": {},
   "outputs": [],
   "source": [
    "from sklearn.tree import DecisionTreeClassifier, export_graphviz\n",
    "m = DecisionTreeClassifier(max_leaf_nodes=4)\n",
    "m.fit(xs, y);"
   ]
  },
  {
   "cell_type": "code",
   "execution_count": 28,
   "id": "d578fac9-6c0a-48ea-bcdc-10649caeee18",
   "metadata": {},
   "outputs": [],
   "source": [
    "from fastbook import *"
   ]
  },
  {
   "cell_type": "code",
   "execution_count": 29,
   "id": "dc9df1ba-38a9-40ac-8b60-7ed78fe6d641",
   "metadata": {},
   "outputs": [
    {
     "data": {
      "image/svg+xml": [
       "<?xml version=\"1.0\" encoding=\"UTF-8\" standalone=\"no\"?>\n",
       "<!DOCTYPE svg PUBLIC \"-//W3C//DTD SVG 1.1//EN\"\n",
       " \"http://www.w3.org/Graphics/SVG/1.1/DTD/svg11.dtd\">\n",
       "<!-- Generated by graphviz version 2.43.0 (0)\n",
       " -->\n",
       "<!-- Title: Tree Pages: 1 -->\n",
       "<svg width=\"660pt\" height=\"400pt\"\n",
       " viewBox=\"0.00 0.00 660.00 399.93\" xmlns=\"http://www.w3.org/2000/svg\" xmlns:xlink=\"http://www.w3.org/1999/xlink\">\n",
       "<g id=\"graph0\" class=\"graph\" transform=\"scale(1 1) rotate(0) translate(4 395.93)\">\n",
       "<title>Tree</title>\n",
       "<polygon fill=\"white\" stroke=\"transparent\" points=\"-4,4 -4,-395.93 656,-395.93 656,4 -4,4\"/>\n",
       "<!-- 0 -->\n",
       "<g id=\"node1\" class=\"node\">\n",
       "<title>0</title>\n",
       "<path fill=\"#fdf5f0\" stroke=\"black\" d=\"M390.5,-376C390.5,-376 247.5,-376 247.5,-376 241.5,-376 235.5,-370 235.5,-364 235.5,-364 235.5,-320 235.5,-320 235.5,-314 241.5,-308 247.5,-308 247.5,-308 390.5,-308 390.5,-308 396.5,-308 402.5,-314 402.5,-320 402.5,-320 402.5,-364 402.5,-364 402.5,-370 396.5,-376 390.5,-376\"/>\n",
       "<text text-anchor=\"start\" x=\"267.5\" y=\"-360.8\" font-family=\"Helvetica,sans-Serif\" font-size=\"14.00\">gill color ≤ 4.5</text>\n",
       "<text text-anchor=\"start\" x=\"284\" y=\"-345.8\" font-family=\"Helvetica,sans-Serif\" font-size=\"14.00\">gini = 0.5</text>\n",
       "<text text-anchor=\"start\" x=\"261.5\" y=\"-330.8\" font-family=\"Helvetica,sans-Serif\" font-size=\"14.00\">samples = 6093</text>\n",
       "<text text-anchor=\"start\" x=\"243.5\" y=\"-315.8\" font-family=\"Helvetica,sans-Serif\" font-size=\"14.00\">value = [3168, 2925]</text>\n",
       "</g>\n",
       "<!-- 1 -->\n",
       "<g id=\"node2\" class=\"node\">\n",
       "<title>1</title>\n",
       "<path fill=\"#61b1ea\" stroke=\"black\" d=\"M294,-224C294,-224 160,-224 160,-224 154,-224 148,-218 148,-212 148,-212 148,-168 148,-168 148,-162 154,-156 160,-156 160,-156 294,-156 294,-156 300,-156 306,-162 306,-168 306,-168 306,-212 306,-212 306,-218 300,-224 294,-224\"/>\n",
       "<text text-anchor=\"start\" x=\"168\" y=\"-208.8\" font-family=\"Helvetica,sans-Serif\" font-size=\"14.00\">population ≤ 4.5</text>\n",
       "<text text-anchor=\"start\" x=\"187.5\" y=\"-193.8\" font-family=\"Helvetica,sans-Serif\" font-size=\"14.00\">gini = 0.28</text>\n",
       "<text text-anchor=\"start\" x=\"169.5\" y=\"-178.8\" font-family=\"Helvetica,sans-Serif\" font-size=\"14.00\">samples = 2463</text>\n",
       "<text text-anchor=\"start\" x=\"156\" y=\"-163.8\" font-family=\"Helvetica,sans-Serif\" font-size=\"14.00\">value = [410, 2053]</text>\n",
       "</g>\n",
       "<!-- 0&#45;&gt;1 -->\n",
       "<g id=\"edge1\" class=\"edge\">\n",
       "<title>0&#45;&gt;1</title>\n",
       "<path fill=\"none\" stroke=\"black\" d=\"M298.58,-307.71C285.06,-285.67 267.22,-256.58 252.73,-232.96\"/>\n",
       "<polygon fill=\"black\" stroke=\"black\" points=\"255.57,-230.89 247.36,-224.2 249.61,-234.55 255.57,-230.89\"/>\n",
       "<text text-anchor=\"middle\" x=\"241.53\" y=\"-244.81\" font-family=\"Helvetica,sans-Serif\" font-size=\"14.00\">True</text>\n",
       "</g>\n",
       "<!-- 2 -->\n",
       "<g id=\"node5\" class=\"node\">\n",
       "<title>2</title>\n",
       "<path fill=\"#eda978\" stroke=\"black\" d=\"M486,-224C486,-224 336,-224 336,-224 330,-224 324,-218 324,-212 324,-212 324,-168 324,-168 324,-162 330,-156 336,-156 336,-156 486,-156 486,-156 492,-156 498,-162 498,-168 498,-168 498,-212 498,-212 498,-218 492,-224 486,-224\"/>\n",
       "<text text-anchor=\"start\" x=\"332\" y=\"-208.8\" font-family=\"Helvetica,sans-Serif\" font-size=\"14.00\">spore print color ≤ 2.5</text>\n",
       "<text text-anchor=\"start\" x=\"371.5\" y=\"-193.8\" font-family=\"Helvetica,sans-Serif\" font-size=\"14.00\">gini = 0.37</text>\n",
       "<text text-anchor=\"start\" x=\"353.5\" y=\"-178.8\" font-family=\"Helvetica,sans-Serif\" font-size=\"14.00\">samples = 3630</text>\n",
       "<text text-anchor=\"start\" x=\"340\" y=\"-163.8\" font-family=\"Helvetica,sans-Serif\" font-size=\"14.00\">value = [2758, 872]</text>\n",
       "</g>\n",
       "<!-- 0&#45;&gt;2 -->\n",
       "<g id=\"edge4\" class=\"edge\">\n",
       "<title>0&#45;&gt;2</title>\n",
       "<path fill=\"none\" stroke=\"black\" d=\"M339.42,-307.71C352.94,-285.67 370.78,-256.58 385.27,-232.96\"/>\n",
       "<polygon fill=\"black\" stroke=\"black\" points=\"388.39,-234.55 390.64,-224.2 382.43,-230.89 388.39,-234.55\"/>\n",
       "<text text-anchor=\"middle\" x=\"396.47\" y=\"-244.81\" font-family=\"Helvetica,sans-Serif\" font-size=\"14.00\">False</text>\n",
       "</g>\n",
       "<!-- 3 -->\n",
       "<g id=\"node3\" class=\"node\">\n",
       "<title>3</title>\n",
       "<path fill=\"#e99254\" stroke=\"black\" d=\"M128,-65.5C128,-65.5 12,-65.5 12,-65.5 6,-65.5 0,-59.5 0,-53.5 0,-53.5 0,-24.5 0,-24.5 0,-18.5 6,-12.5 12,-12.5 12,-12.5 128,-12.5 128,-12.5 134,-12.5 140,-18.5 140,-24.5 140,-24.5 140,-53.5 140,-53.5 140,-59.5 134,-65.5 128,-65.5\"/>\n",
       "<text text-anchor=\"start\" x=\"30.5\" y=\"-50.3\" font-family=\"Helvetica,sans-Serif\" font-size=\"14.00\">gini = 0.21</text>\n",
       "<text text-anchor=\"start\" x=\"17\" y=\"-35.3\" font-family=\"Helvetica,sans-Serif\" font-size=\"14.00\">samples = 441</text>\n",
       "<text text-anchor=\"start\" x=\"8\" y=\"-20.3\" font-family=\"Helvetica,sans-Serif\" font-size=\"14.00\">value = [388, 53]</text>\n",
       "</g>\n",
       "<!-- 1&#45;&gt;3 -->\n",
       "<g id=\"edge2\" class=\"edge\">\n",
       "<title>1&#45;&gt;3</title>\n",
       "<path fill=\"none\" stroke=\"black\" d=\"M192.16,-155.93C166.01,-131.12 130.39,-97.31 104.36,-72.61\"/>\n",
       "<polygon fill=\"black\" stroke=\"black\" points=\"106.61,-69.92 96.95,-65.58 101.79,-75 106.61,-69.92\"/>\n",
       "</g>\n",
       "<!-- 4 -->\n",
       "<g id=\"node4\" class=\"node\">\n",
       "<title>4</title>\n",
       "<path fill=\"#3b9ee5\" stroke=\"black\" d=\"M295.5,-65.5C295.5,-65.5 170.5,-65.5 170.5,-65.5 164.5,-65.5 158.5,-59.5 158.5,-53.5 158.5,-53.5 158.5,-24.5 158.5,-24.5 158.5,-18.5 164.5,-12.5 170.5,-12.5 170.5,-12.5 295.5,-12.5 295.5,-12.5 301.5,-12.5 307.5,-18.5 307.5,-24.5 307.5,-24.5 307.5,-53.5 307.5,-53.5 307.5,-59.5 301.5,-65.5 295.5,-65.5\"/>\n",
       "<text text-anchor=\"start\" x=\"193.5\" y=\"-50.3\" font-family=\"Helvetica,sans-Serif\" font-size=\"14.00\">gini = 0.02</text>\n",
       "<text text-anchor=\"start\" x=\"175.5\" y=\"-35.3\" font-family=\"Helvetica,sans-Serif\" font-size=\"14.00\">samples = 2022</text>\n",
       "<text text-anchor=\"start\" x=\"166.5\" y=\"-20.3\" font-family=\"Helvetica,sans-Serif\" font-size=\"14.00\">value = [22, 2000]</text>\n",
       "</g>\n",
       "<!-- 1&#45;&gt;4 -->\n",
       "<g id=\"edge3\" class=\"edge\">\n",
       "<title>1&#45;&gt;4</title>\n",
       "<path fill=\"none\" stroke=\"black\" d=\"M228.33,-155.93C229.29,-132.18 230.58,-100.2 231.56,-75.84\"/>\n",
       "<polygon fill=\"black\" stroke=\"black\" points=\"235.06,-75.71 231.97,-65.58 228.07,-75.43 235.06,-75.71\"/>\n",
       "</g>\n",
       "<!-- 5 -->\n",
       "<g id=\"node6\" class=\"node\">\n",
       "<title>5</title>\n",
       "<path fill=\"#53aae8\" stroke=\"black\" d=\"M464,-65.5C464,-65.5 348,-65.5 348,-65.5 342,-65.5 336,-59.5 336,-53.5 336,-53.5 336,-24.5 336,-24.5 336,-18.5 342,-12.5 348,-12.5 348,-12.5 464,-12.5 464,-12.5 470,-12.5 476,-18.5 476,-24.5 476,-24.5 476,-53.5 476,-53.5 476,-59.5 470,-65.5 464,-65.5\"/>\n",
       "<text text-anchor=\"start\" x=\"371\" y=\"-50.3\" font-family=\"Helvetica,sans-Serif\" font-size=\"14.00\">gini = 0.2</text>\n",
       "<text text-anchor=\"start\" x=\"353\" y=\"-35.3\" font-family=\"Helvetica,sans-Serif\" font-size=\"14.00\">samples = 544</text>\n",
       "<text text-anchor=\"start\" x=\"344\" y=\"-20.3\" font-family=\"Helvetica,sans-Serif\" font-size=\"14.00\">value = [63, 481]</text>\n",
       "</g>\n",
       "<!-- 2&#45;&gt;5 -->\n",
       "<g id=\"edge5\" class=\"edge\">\n",
       "<title>2&#45;&gt;5</title>\n",
       "<path fill=\"none\" stroke=\"black\" d=\"M409.89,-155.93C409.09,-132.18 408.02,-100.2 407.2,-75.84\"/>\n",
       "<polygon fill=\"black\" stroke=\"black\" points=\"410.69,-75.45 406.86,-65.58 403.7,-75.69 410.69,-75.45\"/>\n",
       "</g>\n",
       "<!-- 6 -->\n",
       "<g id=\"node7\" class=\"node\">\n",
       "<title>6</title>\n",
       "<path fill=\"#e99356\" stroke=\"black\" d=\"M640,-65.5C640,-65.5 506,-65.5 506,-65.5 500,-65.5 494,-59.5 494,-53.5 494,-53.5 494,-24.5 494,-24.5 494,-18.5 500,-12.5 506,-12.5 506,-12.5 640,-12.5 640,-12.5 646,-12.5 652,-18.5 652,-24.5 652,-24.5 652,-53.5 652,-53.5 652,-59.5 646,-65.5 640,-65.5\"/>\n",
       "<text text-anchor=\"start\" x=\"533.5\" y=\"-50.3\" font-family=\"Helvetica,sans-Serif\" font-size=\"14.00\">gini = 0.22</text>\n",
       "<text text-anchor=\"start\" x=\"515.5\" y=\"-35.3\" font-family=\"Helvetica,sans-Serif\" font-size=\"14.00\">samples = 3086</text>\n",
       "<text text-anchor=\"start\" x=\"502\" y=\"-20.3\" font-family=\"Helvetica,sans-Serif\" font-size=\"14.00\">value = [2695, 391]</text>\n",
       "</g>\n",
       "<!-- 2&#45;&gt;6 -->\n",
       "<g id=\"edge6\" class=\"edge\">\n",
       "<title>2&#45;&gt;6</title>\n",
       "<path fill=\"none\" stroke=\"black\" d=\"M446.95,-155.93C473.93,-131.12 510.69,-97.31 537.55,-72.61\"/>\n",
       "<polygon fill=\"black\" stroke=\"black\" points=\"540.2,-74.92 545.19,-65.58 535.46,-69.77 540.2,-74.92\"/>\n",
       "</g>\n",
       "</g>\n",
       "</svg>\n"
      ],
      "text/plain": [
       "<graphviz.sources.Source at 0x7f341f576670>"
      ]
     },
     "execution_count": 29,
     "metadata": {},
     "output_type": "execute_result"
    }
   ],
   "source": [
    "draw_tree(m, xs, size=10, leaves_parallel=True, precision=2)"
   ]
  },
  {
   "cell_type": "code",
   "execution_count": 30,
   "id": "d1c5a7d8-4ffd-4884-adb0-b47cd199d542",
   "metadata": {},
   "outputs": [],
   "source": [
    "def r_mse(pred,y): return round(math.sqrt(((pred-y)**2).mean()), 6)\n",
    "def m_rmse(m, xs, y): return r_mse(m.predict(xs), y)"
   ]
  },
  {
   "cell_type": "code",
   "execution_count": 31,
   "id": "59dea458-b97c-4243-8643-c0e5fcdffbb2",
   "metadata": {},
   "outputs": [
    {
     "data": {
      "text/plain": [
       "0.294654"
      ]
     },
     "execution_count": 31,
     "metadata": {},
     "output_type": "execute_result"
    }
   ],
   "source": [
    "m_rmse(m, xs, y)"
   ]
  },
  {
   "cell_type": "code",
   "execution_count": 32,
   "id": "08a6b906-4e28-4dd0-9bda-ebb9b95b3a54",
   "metadata": {},
   "outputs": [
    {
     "data": {
      "image/svg+xml": [
       "<?xml version=\"1.0\" encoding=\"UTF-8\" standalone=\"no\"?>\n",
       "<!DOCTYPE svg PUBLIC \"-//W3C//DTD SVG 1.1//EN\"\n",
       " \"http://www.w3.org/Graphics/SVG/1.1/DTD/svg11.dtd\">\n",
       "<!-- Generated by graphviz version 2.43.0 (0)\n",
       " -->\n",
       "<!-- Title: Tree Pages: 1 -->\n",
       "<svg width=\"1503pt\" height=\"905pt\"\n",
       " viewBox=\"0.00 0.00 1503.00 905.00\" xmlns=\"http://www.w3.org/2000/svg\" xmlns:xlink=\"http://www.w3.org/1999/xlink\">\n",
       "<g id=\"graph0\" class=\"graph\" transform=\"scale(1 1) rotate(0) translate(4 901)\">\n",
       "<title>Tree</title>\n",
       "<polygon fill=\"white\" stroke=\"transparent\" points=\"-4,4 -4,-901 1499,-901 1499,4 -4,4\"/>\n",
       "<!-- 0 -->\n",
       "<g id=\"node1\" class=\"node\">\n",
       "<title>0</title>\n",
       "<path fill=\"#fdf5f0\" stroke=\"black\" d=\"M738,-878C738,-878 595,-878 595,-878 589,-878 583,-872 583,-866 583,-866 583,-822 583,-822 583,-816 589,-810 595,-810 595,-810 738,-810 738,-810 744,-810 750,-816 750,-822 750,-822 750,-866 750,-866 750,-872 744,-878 738,-878\"/>\n",
       "<text text-anchor=\"start\" x=\"615\" y=\"-862.8\" font-family=\"Helvetica,sans-Serif\" font-size=\"14.00\">gill color ≤ 4.0</text>\n",
       "<text text-anchor=\"start\" x=\"631.5\" y=\"-847.8\" font-family=\"Helvetica,sans-Serif\" font-size=\"14.00\">gini = 0.0</text>\n",
       "<text text-anchor=\"start\" x=\"609\" y=\"-832.8\" font-family=\"Helvetica,sans-Serif\" font-size=\"14.00\">samples = 6093</text>\n",
       "<text text-anchor=\"start\" x=\"591\" y=\"-817.8\" font-family=\"Helvetica,sans-Serif\" font-size=\"14.00\">value = [3168, 2925]</text>\n",
       "</g>\n",
       "<!-- 1 -->\n",
       "<g id=\"node2\" class=\"node\">\n",
       "<title>1</title>\n",
       "<path fill=\"#61b1ea\" stroke=\"black\" d=\"M553.5,-715C553.5,-715 419.5,-715 419.5,-715 413.5,-715 407.5,-709 407.5,-703 407.5,-703 407.5,-659 407.5,-659 407.5,-653 413.5,-647 419.5,-647 419.5,-647 553.5,-647 553.5,-647 559.5,-647 565.5,-653 565.5,-659 565.5,-659 565.5,-703 565.5,-703 565.5,-709 559.5,-715 553.5,-715\"/>\n",
       "<text text-anchor=\"start\" x=\"427.5\" y=\"-699.8\" font-family=\"Helvetica,sans-Serif\" font-size=\"14.00\">population ≤ 4.0</text>\n",
       "<text text-anchor=\"start\" x=\"451.5\" y=\"-684.8\" font-family=\"Helvetica,sans-Serif\" font-size=\"14.00\">gini = 0.0</text>\n",
       "<text text-anchor=\"start\" x=\"429\" y=\"-669.8\" font-family=\"Helvetica,sans-Serif\" font-size=\"14.00\">samples = 2463</text>\n",
       "<text text-anchor=\"start\" x=\"415.5\" y=\"-654.8\" font-family=\"Helvetica,sans-Serif\" font-size=\"14.00\">value = [410, 2053]</text>\n",
       "</g>\n",
       "<!-- 0&#45;&gt;1 -->\n",
       "<g id=\"edge1\" class=\"edge\">\n",
       "<title>0&#45;&gt;1</title>\n",
       "<path fill=\"none\" stroke=\"black\" d=\"M629.2,-809.64C600.63,-784.08 561.11,-748.74 530.91,-721.72\"/>\n",
       "<polygon fill=\"black\" stroke=\"black\" points=\"533.23,-719.1 523.44,-715.04 528.56,-724.32 533.23,-719.1\"/>\n",
       "<text text-anchor=\"middle\" x=\"524.83\" y=\"-736.3\" font-family=\"Helvetica,sans-Serif\" font-size=\"14.00\">True</text>\n",
       "</g>\n",
       "<!-- 12 -->\n",
       "<g id=\"node13\" class=\"node\">\n",
       "<title>12</title>\n",
       "<path fill=\"#eda978\" stroke=\"black\" d=\"M898.5,-715C898.5,-715 748.5,-715 748.5,-715 742.5,-715 736.5,-709 736.5,-703 736.5,-703 736.5,-659 736.5,-659 736.5,-653 742.5,-647 748.5,-647 748.5,-647 898.5,-647 898.5,-647 904.5,-647 910.5,-653 910.5,-659 910.5,-659 910.5,-703 910.5,-703 910.5,-709 904.5,-715 898.5,-715\"/>\n",
       "<text text-anchor=\"start\" x=\"744.5\" y=\"-699.8\" font-family=\"Helvetica,sans-Serif\" font-size=\"14.00\">spore print color ≤ 2.0</text>\n",
       "<text text-anchor=\"start\" x=\"788.5\" y=\"-684.8\" font-family=\"Helvetica,sans-Serif\" font-size=\"14.00\">gini = 0.0</text>\n",
       "<text text-anchor=\"start\" x=\"766\" y=\"-669.8\" font-family=\"Helvetica,sans-Serif\" font-size=\"14.00\">samples = 3630</text>\n",
       "<text text-anchor=\"start\" x=\"752.5\" y=\"-654.8\" font-family=\"Helvetica,sans-Serif\" font-size=\"14.00\">value = [2758, 872]</text>\n",
       "</g>\n",
       "<!-- 0&#45;&gt;12 -->\n",
       "<g id=\"edge12\" class=\"edge\">\n",
       "<title>0&#45;&gt;12</title>\n",
       "<path fill=\"none\" stroke=\"black\" d=\"M699.03,-809.64C723.74,-784.3 757.84,-749.34 784.1,-722.41\"/>\n",
       "<polygon fill=\"black\" stroke=\"black\" points=\"786.8,-724.64 791.28,-715.04 781.79,-719.76 786.8,-724.64\"/>\n",
       "<text text-anchor=\"middle\" x=\"791.59\" y=\"-736.34\" font-family=\"Helvetica,sans-Serif\" font-size=\"14.00\">False</text>\n",
       "</g>\n",
       "<!-- 2 -->\n",
       "<g id=\"node3\" class=\"node\">\n",
       "<title>2</title>\n",
       "<path fill=\"#e99254\" stroke=\"black\" d=\"M272.5,-552C272.5,-552 156.5,-552 156.5,-552 150.5,-552 144.5,-546 144.5,-540 144.5,-540 144.5,-496 144.5,-496 144.5,-490 150.5,-484 156.5,-484 156.5,-484 272.5,-484 272.5,-484 278.5,-484 284.5,-490 284.5,-496 284.5,-496 284.5,-540 284.5,-540 284.5,-546 278.5,-552 272.5,-552\"/>\n",
       "<text text-anchor=\"start\" x=\"176.5\" y=\"-536.8\" font-family=\"Helvetica,sans-Serif\" font-size=\"14.00\">odor ≤ 4.0</text>\n",
       "<text text-anchor=\"start\" x=\"179.5\" y=\"-521.8\" font-family=\"Helvetica,sans-Serif\" font-size=\"14.00\">gini = 0.0</text>\n",
       "<text text-anchor=\"start\" x=\"161.5\" y=\"-506.8\" font-family=\"Helvetica,sans-Serif\" font-size=\"14.00\">samples = 441</text>\n",
       "<text text-anchor=\"start\" x=\"152.5\" y=\"-491.8\" font-family=\"Helvetica,sans-Serif\" font-size=\"14.00\">value = [388, 53]</text>\n",
       "</g>\n",
       "<!-- 1&#45;&gt;2 -->\n",
       "<g id=\"edge2\" class=\"edge\">\n",
       "<title>1&#45;&gt;2</title>\n",
       "<path fill=\"none\" stroke=\"black\" d=\"M430.47,-646.84C386.5,-620.81 325.22,-584.53 279.16,-557.27\"/>\n",
       "<polygon fill=\"black\" stroke=\"black\" points=\"280.84,-554.2 270.46,-552.12 277.28,-560.23 280.84,-554.2\"/>\n",
       "</g>\n",
       "<!-- 5 -->\n",
       "<g id=\"node6\" class=\"node\">\n",
       "<title>5</title>\n",
       "<path fill=\"#3b9ee5\" stroke=\"black\" d=\"M549,-552C549,-552 424,-552 424,-552 418,-552 412,-546 412,-540 412,-540 412,-496 412,-496 412,-490 418,-484 424,-484 424,-484 549,-484 549,-484 555,-484 561,-490 561,-496 561,-496 561,-540 561,-540 561,-546 555,-552 549,-552\"/>\n",
       "<text text-anchor=\"start\" x=\"424.5\" y=\"-536.8\" font-family=\"Helvetica,sans-Serif\" font-size=\"14.00\">stalk shape ≤ 2.0</text>\n",
       "<text text-anchor=\"start\" x=\"451.5\" y=\"-521.8\" font-family=\"Helvetica,sans-Serif\" font-size=\"14.00\">gini = 0.0</text>\n",
       "<text text-anchor=\"start\" x=\"429\" y=\"-506.8\" font-family=\"Helvetica,sans-Serif\" font-size=\"14.00\">samples = 2022</text>\n",
       "<text text-anchor=\"start\" x=\"420\" y=\"-491.8\" font-family=\"Helvetica,sans-Serif\" font-size=\"14.00\">value = [22, 2000]</text>\n",
       "</g>\n",
       "<!-- 1&#45;&gt;5 -->\n",
       "<g id=\"edge5\" class=\"edge\">\n",
       "<title>1&#45;&gt;5</title>\n",
       "<path fill=\"none\" stroke=\"black\" d=\"M486.5,-646.64C486.5,-622.17 486.5,-588.71 486.5,-562.2\"/>\n",
       "<polygon fill=\"black\" stroke=\"black\" points=\"490,-562.04 486.5,-552.04 483,-562.04 490,-562.04\"/>\n",
       "</g>\n",
       "<!-- 3 -->\n",
       "<g id=\"node4\" class=\"node\">\n",
       "<title>3</title>\n",
       "<path fill=\"#ecf6fd\" stroke=\"black\" d=\"M119,-381.5C119,-381.5 12,-381.5 12,-381.5 6,-381.5 0,-375.5 0,-369.5 0,-369.5 0,-340.5 0,-340.5 0,-334.5 6,-328.5 12,-328.5 12,-328.5 119,-328.5 119,-328.5 125,-328.5 131,-334.5 131,-340.5 131,-340.5 131,-369.5 131,-369.5 131,-375.5 125,-381.5 119,-381.5\"/>\n",
       "<text text-anchor=\"start\" x=\"30.5\" y=\"-366.3\" font-family=\"Helvetica,sans-Serif\" font-size=\"14.00\">gini = 0.0</text>\n",
       "<text text-anchor=\"start\" x=\"12.5\" y=\"-351.3\" font-family=\"Helvetica,sans-Serif\" font-size=\"14.00\">samples = 101</text>\n",
       "<text text-anchor=\"start\" x=\"8\" y=\"-336.3\" font-family=\"Helvetica,sans-Serif\" font-size=\"14.00\">value = [48, 53]</text>\n",
       "</g>\n",
       "<!-- 2&#45;&gt;3 -->\n",
       "<g id=\"edge3\" class=\"edge\">\n",
       "<title>2&#45;&gt;3</title>\n",
       "<path fill=\"none\" stroke=\"black\" d=\"M183.63,-483.64C157.99,-455.94 121.72,-416.75 96.15,-389.12\"/>\n",
       "<polygon fill=\"black\" stroke=\"black\" points=\"98.6,-386.61 89.24,-381.65 93.46,-391.37 98.6,-386.61\"/>\n",
       "</g>\n",
       "<!-- 4 -->\n",
       "<g id=\"node5\" class=\"node\">\n",
       "<title>4</title>\n",
       "<path fill=\"#e58139\" stroke=\"black\" d=\"M268,-381.5C268,-381.5 161,-381.5 161,-381.5 155,-381.5 149,-375.5 149,-369.5 149,-369.5 149,-340.5 149,-340.5 149,-334.5 155,-328.5 161,-328.5 161,-328.5 268,-328.5 268,-328.5 274,-328.5 280,-334.5 280,-340.5 280,-340.5 280,-369.5 280,-369.5 280,-375.5 274,-381.5 268,-381.5\"/>\n",
       "<text text-anchor=\"start\" x=\"179.5\" y=\"-366.3\" font-family=\"Helvetica,sans-Serif\" font-size=\"14.00\">gini = 0.0</text>\n",
       "<text text-anchor=\"start\" x=\"161.5\" y=\"-351.3\" font-family=\"Helvetica,sans-Serif\" font-size=\"14.00\">samples = 340</text>\n",
       "<text text-anchor=\"start\" x=\"157\" y=\"-336.3\" font-family=\"Helvetica,sans-Serif\" font-size=\"14.00\">value = [340, 0]</text>\n",
       "</g>\n",
       "<!-- 2&#45;&gt;4 -->\n",
       "<g id=\"edge4\" class=\"edge\">\n",
       "<title>2&#45;&gt;4</title>\n",
       "<path fill=\"none\" stroke=\"black\" d=\"M214.5,-483.64C214.5,-456.89 214.5,-419.41 214.5,-391.99\"/>\n",
       "<polygon fill=\"black\" stroke=\"black\" points=\"218,-391.65 214.5,-381.65 211,-391.65 218,-391.65\"/>\n",
       "</g>\n",
       "<!-- 6 -->\n",
       "<g id=\"node7\" class=\"node\">\n",
       "<title>6</title>\n",
       "<path fill=\"#40a0e6\" stroke=\"black\" d=\"M522.5,-389C522.5,-389 310.5,-389 310.5,-389 304.5,-389 298.5,-383 298.5,-377 298.5,-377 298.5,-333 298.5,-333 298.5,-327 304.5,-321 310.5,-321 310.5,-321 522.5,-321 522.5,-321 528.5,-321 534.5,-327 534.5,-333 534.5,-333 534.5,-377 534.5,-377 534.5,-383 528.5,-389 522.5,-389\"/>\n",
       "<text text-anchor=\"start\" x=\"306.5\" y=\"-373.8\" font-family=\"Helvetica,sans-Serif\" font-size=\"14.00\">stalk color below the ring ≤ 6.0</text>\n",
       "<text text-anchor=\"start\" x=\"381.5\" y=\"-358.8\" font-family=\"Helvetica,sans-Serif\" font-size=\"14.00\">gini = 0.0</text>\n",
       "<text text-anchor=\"start\" x=\"363.5\" y=\"-343.8\" font-family=\"Helvetica,sans-Serif\" font-size=\"14.00\">samples = 692</text>\n",
       "<text text-anchor=\"start\" x=\"354.5\" y=\"-328.8\" font-family=\"Helvetica,sans-Serif\" font-size=\"14.00\">value = [22, 670]</text>\n",
       "</g>\n",
       "<!-- 5&#45;&gt;6 -->\n",
       "<g id=\"edge6\" class=\"edge\">\n",
       "<title>5&#45;&gt;6</title>\n",
       "<path fill=\"none\" stroke=\"black\" d=\"M472,-483.64C461.26,-458.95 446.55,-425.12 434.98,-398.49\"/>\n",
       "<polygon fill=\"black\" stroke=\"black\" points=\"438.06,-396.82 430.87,-389.04 431.64,-399.61 438.06,-396.82\"/>\n",
       "</g>\n",
       "<!-- 11 -->\n",
       "<g id=\"node12\" class=\"node\">\n",
       "<title>11</title>\n",
       "<path fill=\"#399de5\" stroke=\"black\" d=\"M680.5,-381.5C680.5,-381.5 564.5,-381.5 564.5,-381.5 558.5,-381.5 552.5,-375.5 552.5,-369.5 552.5,-369.5 552.5,-340.5 552.5,-340.5 552.5,-334.5 558.5,-328.5 564.5,-328.5 564.5,-328.5 680.5,-328.5 680.5,-328.5 686.5,-328.5 692.5,-334.5 692.5,-340.5 692.5,-340.5 692.5,-369.5 692.5,-369.5 692.5,-375.5 686.5,-381.5 680.5,-381.5\"/>\n",
       "<text text-anchor=\"start\" x=\"587.5\" y=\"-366.3\" font-family=\"Helvetica,sans-Serif\" font-size=\"14.00\">gini = 0.0</text>\n",
       "<text text-anchor=\"start\" x=\"565\" y=\"-351.3\" font-family=\"Helvetica,sans-Serif\" font-size=\"14.00\">samples = 1330</text>\n",
       "<text text-anchor=\"start\" x=\"560.5\" y=\"-336.3\" font-family=\"Helvetica,sans-Serif\" font-size=\"14.00\">value = [0, 1330]</text>\n",
       "</g>\n",
       "<!-- 5&#45;&gt;11 -->\n",
       "<g id=\"edge11\" class=\"edge\">\n",
       "<title>5&#45;&gt;11</title>\n",
       "<path fill=\"none\" stroke=\"black\" d=\"M514.68,-483.64C537.98,-456.06 570.9,-417.08 594.23,-389.47\"/>\n",
       "<polygon fill=\"black\" stroke=\"black\" points=\"597.05,-391.55 600.83,-381.65 591.71,-387.03 597.05,-391.55\"/>\n",
       "</g>\n",
       "<!-- 7 -->\n",
       "<g id=\"node8\" class=\"node\">\n",
       "<title>7</title>\n",
       "<path fill=\"#399de5\" stroke=\"black\" d=\"M369,-219.5C369,-219.5 262,-219.5 262,-219.5 256,-219.5 250,-213.5 250,-207.5 250,-207.5 250,-178.5 250,-178.5 250,-172.5 256,-166.5 262,-166.5 262,-166.5 369,-166.5 369,-166.5 375,-166.5 381,-172.5 381,-178.5 381,-178.5 381,-207.5 381,-207.5 381,-213.5 375,-219.5 369,-219.5\"/>\n",
       "<text text-anchor=\"start\" x=\"280.5\" y=\"-204.3\" font-family=\"Helvetica,sans-Serif\" font-size=\"14.00\">gini = 0.0</text>\n",
       "<text text-anchor=\"start\" x=\"262.5\" y=\"-189.3\" font-family=\"Helvetica,sans-Serif\" font-size=\"14.00\">samples = 425</text>\n",
       "<text text-anchor=\"start\" x=\"258\" y=\"-174.3\" font-family=\"Helvetica,sans-Serif\" font-size=\"14.00\">value = [0, 425]</text>\n",
       "</g>\n",
       "<!-- 6&#45;&gt;7 -->\n",
       "<g id=\"edge7\" class=\"edge\">\n",
       "<title>6&#45;&gt;7</title>\n",
       "<path fill=\"none\" stroke=\"black\" d=\"M395.57,-320.85C378.47,-293.76 354.38,-255.6 337.1,-228.22\"/>\n",
       "<polygon fill=\"black\" stroke=\"black\" points=\"340.05,-226.33 331.75,-219.74 334.13,-230.06 340.05,-226.33\"/>\n",
       "</g>\n",
       "<!-- 8 -->\n",
       "<g id=\"node9\" class=\"node\">\n",
       "<title>8</title>\n",
       "<path fill=\"#4ba6e7\" stroke=\"black\" d=\"M624,-227C624,-227 411,-227 411,-227 405,-227 399,-221 399,-215 399,-215 399,-171 399,-171 399,-165 405,-159 411,-159 411,-159 624,-159 624,-159 630,-159 636,-165 636,-171 636,-171 636,-215 636,-215 636,-221 630,-227 624,-227\"/>\n",
       "<text text-anchor=\"start\" x=\"407\" y=\"-211.8\" font-family=\"Helvetica,sans-Serif\" font-size=\"14.00\">stalk color above the ring ≤ 6.0</text>\n",
       "<text text-anchor=\"start\" x=\"482.5\" y=\"-196.8\" font-family=\"Helvetica,sans-Serif\" font-size=\"14.00\">gini = 0.0</text>\n",
       "<text text-anchor=\"start\" x=\"464.5\" y=\"-181.8\" font-family=\"Helvetica,sans-Serif\" font-size=\"14.00\">samples = 267</text>\n",
       "<text text-anchor=\"start\" x=\"455.5\" y=\"-166.8\" font-family=\"Helvetica,sans-Serif\" font-size=\"14.00\">value = [22, 245]</text>\n",
       "</g>\n",
       "<!-- 6&#45;&gt;8 -->\n",
       "<g id=\"edge8\" class=\"edge\">\n",
       "<title>6&#45;&gt;8</title>\n",
       "<path fill=\"none\" stroke=\"black\" d=\"M437.43,-320.85C453,-296.18 474.37,-262.33 491.11,-235.8\"/>\n",
       "<polygon fill=\"black\" stroke=\"black\" points=\"494.22,-237.43 496.6,-227.11 488.3,-233.7 494.22,-237.43\"/>\n",
       "</g>\n",
       "<!-- 9 -->\n",
       "<g id=\"node10\" class=\"node\">\n",
       "<title>9</title>\n",
       "<path fill=\"#399de5\" stroke=\"black\" d=\"M494,-67.5C494,-67.5 387,-67.5 387,-67.5 381,-67.5 375,-61.5 375,-55.5 375,-55.5 375,-26.5 375,-26.5 375,-20.5 381,-14.5 387,-14.5 387,-14.5 494,-14.5 494,-14.5 500,-14.5 506,-20.5 506,-26.5 506,-26.5 506,-55.5 506,-55.5 506,-61.5 500,-67.5 494,-67.5\"/>\n",
       "<text text-anchor=\"start\" x=\"405.5\" y=\"-52.3\" font-family=\"Helvetica,sans-Serif\" font-size=\"14.00\">gini = 0.0</text>\n",
       "<text text-anchor=\"start\" x=\"387.5\" y=\"-37.3\" font-family=\"Helvetica,sans-Serif\" font-size=\"14.00\">samples = 131</text>\n",
       "<text text-anchor=\"start\" x=\"383\" y=\"-22.3\" font-family=\"Helvetica,sans-Serif\" font-size=\"14.00\">value = [0, 131]</text>\n",
       "</g>\n",
       "<!-- 8&#45;&gt;9 -->\n",
       "<g id=\"edge9\" class=\"edge\">\n",
       "<title>8&#45;&gt;9</title>\n",
       "<path fill=\"none\" stroke=\"black\" d=\"M500.41,-158.71C487.92,-134.37 471.01,-101.44 458.35,-76.77\"/>\n",
       "<polygon fill=\"black\" stroke=\"black\" points=\"461.4,-75.05 453.72,-67.75 455.17,-78.24 461.4,-75.05\"/>\n",
       "</g>\n",
       "<!-- 10 -->\n",
       "<g id=\"node11\" class=\"node\">\n",
       "<title>10</title>\n",
       "<path fill=\"#5fb0ea\" stroke=\"black\" d=\"M652.5,-67.5C652.5,-67.5 536.5,-67.5 536.5,-67.5 530.5,-67.5 524.5,-61.5 524.5,-55.5 524.5,-55.5 524.5,-26.5 524.5,-26.5 524.5,-20.5 530.5,-14.5 536.5,-14.5 536.5,-14.5 652.5,-14.5 652.5,-14.5 658.5,-14.5 664.5,-20.5 664.5,-26.5 664.5,-26.5 664.5,-55.5 664.5,-55.5 664.5,-61.5 658.5,-67.5 652.5,-67.5\"/>\n",
       "<text text-anchor=\"start\" x=\"559.5\" y=\"-52.3\" font-family=\"Helvetica,sans-Serif\" font-size=\"14.00\">gini = 0.0</text>\n",
       "<text text-anchor=\"start\" x=\"541.5\" y=\"-37.3\" font-family=\"Helvetica,sans-Serif\" font-size=\"14.00\">samples = 136</text>\n",
       "<text text-anchor=\"start\" x=\"532.5\" y=\"-22.3\" font-family=\"Helvetica,sans-Serif\" font-size=\"14.00\">value = [22, 114]</text>\n",
       "</g>\n",
       "<!-- 8&#45;&gt;10 -->\n",
       "<g id=\"edge10\" class=\"edge\">\n",
       "<title>8&#45;&gt;10</title>\n",
       "<path fill=\"none\" stroke=\"black\" d=\"M534.59,-158.71C547.08,-134.37 563.99,-101.44 576.65,-76.77\"/>\n",
       "<polygon fill=\"black\" stroke=\"black\" points=\"579.83,-78.24 581.28,-67.75 573.6,-75.05 579.83,-78.24\"/>\n",
       "</g>\n",
       "<!-- 13 -->\n",
       "<g id=\"node14\" class=\"node\">\n",
       "<title>13</title>\n",
       "<path fill=\"#53aae8\" stroke=\"black\" d=\"M939,-552C939,-552 708,-552 708,-552 702,-552 696,-546 696,-540 696,-540 696,-496 696,-496 696,-490 702,-484 708,-484 708,-484 939,-484 939,-484 945,-484 951,-490 951,-496 951,-496 951,-540 951,-540 951,-546 945,-552 939,-552\"/>\n",
       "<text text-anchor=\"start\" x=\"704\" y=\"-536.8\" font-family=\"Helvetica,sans-Serif\" font-size=\"14.00\">stalk surface above the ring ≤ 2.0</text>\n",
       "<text text-anchor=\"start\" x=\"788.5\" y=\"-521.8\" font-family=\"Helvetica,sans-Serif\" font-size=\"14.00\">gini = 0.0</text>\n",
       "<text text-anchor=\"start\" x=\"770.5\" y=\"-506.8\" font-family=\"Helvetica,sans-Serif\" font-size=\"14.00\">samples = 544</text>\n",
       "<text text-anchor=\"start\" x=\"761.5\" y=\"-491.8\" font-family=\"Helvetica,sans-Serif\" font-size=\"14.00\">value = [63, 481]</text>\n",
       "</g>\n",
       "<!-- 12&#45;&gt;13 -->\n",
       "<g id=\"edge13\" class=\"edge\">\n",
       "<title>12&#45;&gt;13</title>\n",
       "<path fill=\"none\" stroke=\"black\" d=\"M823.5,-646.64C823.5,-622.17 823.5,-588.71 823.5,-562.2\"/>\n",
       "<polygon fill=\"black\" stroke=\"black\" points=\"827,-562.04 823.5,-552.04 820,-562.04 827,-562.04\"/>\n",
       "</g>\n",
       "<!-- 16 -->\n",
       "<g id=\"node17\" class=\"node\">\n",
       "<title>16</title>\n",
       "<path fill=\"#e99356\" stroke=\"black\" d=\"M1163.5,-552C1163.5,-552 1029.5,-552 1029.5,-552 1023.5,-552 1017.5,-546 1017.5,-540 1017.5,-540 1017.5,-496 1017.5,-496 1017.5,-490 1023.5,-484 1029.5,-484 1029.5,-484 1163.5,-484 1163.5,-484 1169.5,-484 1175.5,-490 1175.5,-496 1175.5,-496 1175.5,-540 1175.5,-540 1175.5,-546 1169.5,-552 1163.5,-552\"/>\n",
       "<text text-anchor=\"start\" x=\"1048.5\" y=\"-536.8\" font-family=\"Helvetica,sans-Serif\" font-size=\"14.00\">gill size ≤ 2.0</text>\n",
       "<text text-anchor=\"start\" x=\"1061.5\" y=\"-521.8\" font-family=\"Helvetica,sans-Serif\" font-size=\"14.00\">gini = 0.0</text>\n",
       "<text text-anchor=\"start\" x=\"1039\" y=\"-506.8\" font-family=\"Helvetica,sans-Serif\" font-size=\"14.00\">samples = 3086</text>\n",
       "<text text-anchor=\"start\" x=\"1025.5\" y=\"-491.8\" font-family=\"Helvetica,sans-Serif\" font-size=\"14.00\">value = [2695, 391]</text>\n",
       "</g>\n",
       "<!-- 12&#45;&gt;16 -->\n",
       "<g id=\"edge16\" class=\"edge\">\n",
       "<title>12&#45;&gt;16</title>\n",
       "<path fill=\"none\" stroke=\"black\" d=\"M879.73,-646.84C923.87,-620.81 985.38,-584.53 1031.6,-557.27\"/>\n",
       "<polygon fill=\"black\" stroke=\"black\" points=\"1033.5,-560.22 1040.34,-552.12 1029.95,-554.19 1033.5,-560.22\"/>\n",
       "</g>\n",
       "<!-- 14 -->\n",
       "<g id=\"node15\" class=\"node\">\n",
       "<title>14</title>\n",
       "<path fill=\"#399de5\" stroke=\"black\" d=\"M830,-381.5C830,-381.5 723,-381.5 723,-381.5 717,-381.5 711,-375.5 711,-369.5 711,-369.5 711,-340.5 711,-340.5 711,-334.5 717,-328.5 723,-328.5 723,-328.5 830,-328.5 830,-328.5 836,-328.5 842,-334.5 842,-340.5 842,-340.5 842,-369.5 842,-369.5 842,-375.5 836,-381.5 830,-381.5\"/>\n",
       "<text text-anchor=\"start\" x=\"741.5\" y=\"-366.3\" font-family=\"Helvetica,sans-Serif\" font-size=\"14.00\">gini = 0.0</text>\n",
       "<text text-anchor=\"start\" x=\"723.5\" y=\"-351.3\" font-family=\"Helvetica,sans-Serif\" font-size=\"14.00\">samples = 404</text>\n",
       "<text text-anchor=\"start\" x=\"719\" y=\"-336.3\" font-family=\"Helvetica,sans-Serif\" font-size=\"14.00\">value = [0, 404]</text>\n",
       "</g>\n",
       "<!-- 13&#45;&gt;14 -->\n",
       "<g id=\"edge14\" class=\"edge\">\n",
       "<title>13&#45;&gt;14</title>\n",
       "<path fill=\"none\" stroke=\"black\" d=\"M813.76,-483.64C805.88,-456.65 794.82,-418.75 786.79,-391.26\"/>\n",
       "<polygon fill=\"black\" stroke=\"black\" points=\"790.15,-390.27 783.99,-381.65 783.43,-392.23 790.15,-390.27\"/>\n",
       "</g>\n",
       "<!-- 15 -->\n",
       "<g id=\"node16\" class=\"node\">\n",
       "<title>15</title>\n",
       "<path fill=\"#dbedfa\" stroke=\"black\" d=\"M979,-381.5C979,-381.5 872,-381.5 872,-381.5 866,-381.5 860,-375.5 860,-369.5 860,-369.5 860,-340.5 860,-340.5 860,-334.5 866,-328.5 872,-328.5 872,-328.5 979,-328.5 979,-328.5 985,-328.5 991,-334.5 991,-340.5 991,-340.5 991,-369.5 991,-369.5 991,-375.5 985,-381.5 979,-381.5\"/>\n",
       "<text text-anchor=\"start\" x=\"890.5\" y=\"-366.3\" font-family=\"Helvetica,sans-Serif\" font-size=\"14.00\">gini = 0.0</text>\n",
       "<text text-anchor=\"start\" x=\"872.5\" y=\"-351.3\" font-family=\"Helvetica,sans-Serif\" font-size=\"14.00\">samples = 140</text>\n",
       "<text text-anchor=\"start\" x=\"868\" y=\"-336.3\" font-family=\"Helvetica,sans-Serif\" font-size=\"14.00\">value = [63, 77]</text>\n",
       "</g>\n",
       "<!-- 13&#45;&gt;15 -->\n",
       "<g id=\"edge15\" class=\"edge\">\n",
       "<title>13&#45;&gt;15</title>\n",
       "<path fill=\"none\" stroke=\"black\" d=\"M844.63,-483.64C861.96,-456.3 886.38,-417.75 903.84,-390.18\"/>\n",
       "<polygon fill=\"black\" stroke=\"black\" points=\"906.86,-391.97 909.25,-381.65 900.94,-388.22 906.86,-391.97\"/>\n",
       "</g>\n",
       "<!-- 17 -->\n",
       "<g id=\"node18\" class=\"node\">\n",
       "<title>17</title>\n",
       "<path fill=\"#e6843e\" stroke=\"black\" d=\"M1171.5,-389C1171.5,-389 1021.5,-389 1021.5,-389 1015.5,-389 1009.5,-383 1009.5,-377 1009.5,-377 1009.5,-333 1009.5,-333 1009.5,-327 1015.5,-321 1021.5,-321 1021.5,-321 1171.5,-321 1171.5,-321 1177.5,-321 1183.5,-327 1183.5,-333 1183.5,-333 1183.5,-377 1183.5,-377 1183.5,-383 1177.5,-389 1171.5,-389\"/>\n",
       "<text text-anchor=\"start\" x=\"1017.5\" y=\"-373.8\" font-family=\"Helvetica,sans-Serif\" font-size=\"14.00\">spore print color ≤ 6.0</text>\n",
       "<text text-anchor=\"start\" x=\"1061.5\" y=\"-358.8\" font-family=\"Helvetica,sans-Serif\" font-size=\"14.00\">gini = 0.0</text>\n",
       "<text text-anchor=\"start\" x=\"1039\" y=\"-343.8\" font-family=\"Helvetica,sans-Serif\" font-size=\"14.00\">samples = 2610</text>\n",
       "<text text-anchor=\"start\" x=\"1030\" y=\"-328.8\" font-family=\"Helvetica,sans-Serif\" font-size=\"14.00\">value = [2543, 67]</text>\n",
       "</g>\n",
       "<!-- 16&#45;&gt;17 -->\n",
       "<g id=\"edge17\" class=\"edge\">\n",
       "<title>16&#45;&gt;17</title>\n",
       "<path fill=\"none\" stroke=\"black\" d=\"M1096.5,-483.64C1096.5,-459.17 1096.5,-425.71 1096.5,-399.2\"/>\n",
       "<polygon fill=\"black\" stroke=\"black\" points=\"1100,-399.04 1096.5,-389.04 1093,-399.04 1100,-399.04\"/>\n",
       "</g>\n",
       "<!-- 22 -->\n",
       "<g id=\"node23\" class=\"node\">\n",
       "<title>22</title>\n",
       "<path fill=\"#96cbf1\" stroke=\"black\" d=\"M1339,-389C1339,-389 1214,-389 1214,-389 1208,-389 1202,-383 1202,-377 1202,-377 1202,-333 1202,-333 1202,-327 1208,-321 1214,-321 1214,-321 1339,-321 1339,-321 1345,-321 1351,-327 1351,-333 1351,-333 1351,-377 1351,-377 1351,-383 1345,-389 1339,-389\"/>\n",
       "<text text-anchor=\"start\" x=\"1238.5\" y=\"-373.8\" font-family=\"Helvetica,sans-Serif\" font-size=\"14.00\">odor ≤ 6.0</text>\n",
       "<text text-anchor=\"start\" x=\"1241.5\" y=\"-358.8\" font-family=\"Helvetica,sans-Serif\" font-size=\"14.00\">gini = 0.0</text>\n",
       "<text text-anchor=\"start\" x=\"1223.5\" y=\"-343.8\" font-family=\"Helvetica,sans-Serif\" font-size=\"14.00\">samples = 476</text>\n",
       "<text text-anchor=\"start\" x=\"1210\" y=\"-328.8\" font-family=\"Helvetica,sans-Serif\" font-size=\"14.00\">value = [152, 324]</text>\n",
       "</g>\n",
       "<!-- 16&#45;&gt;22 -->\n",
       "<g id=\"edge22\" class=\"edge\">\n",
       "<title>16&#45;&gt;22</title>\n",
       "<path fill=\"none\" stroke=\"black\" d=\"M1133.8,-483.64C1162.37,-458.08 1201.89,-422.74 1232.09,-395.72\"/>\n",
       "<polygon fill=\"black\" stroke=\"black\" points=\"1234.44,-398.32 1239.56,-389.04 1229.77,-393.1 1234.44,-398.32\"/>\n",
       "</g>\n",
       "<!-- 18 -->\n",
       "<g id=\"node19\" class=\"node\">\n",
       "<title>18</title>\n",
       "<path fill=\"#e58139\" stroke=\"black\" d=\"M1000.5,-219.5C1000.5,-219.5 884.5,-219.5 884.5,-219.5 878.5,-219.5 872.5,-213.5 872.5,-207.5 872.5,-207.5 872.5,-178.5 872.5,-178.5 872.5,-172.5 878.5,-166.5 884.5,-166.5 884.5,-166.5 1000.5,-166.5 1000.5,-166.5 1006.5,-166.5 1012.5,-172.5 1012.5,-178.5 1012.5,-178.5 1012.5,-207.5 1012.5,-207.5 1012.5,-213.5 1006.5,-219.5 1000.5,-219.5\"/>\n",
       "<text text-anchor=\"start\" x=\"907.5\" y=\"-204.3\" font-family=\"Helvetica,sans-Serif\" font-size=\"14.00\">gini = 0.0</text>\n",
       "<text text-anchor=\"start\" x=\"885\" y=\"-189.3\" font-family=\"Helvetica,sans-Serif\" font-size=\"14.00\">samples = 2256</text>\n",
       "<text text-anchor=\"start\" x=\"880.5\" y=\"-174.3\" font-family=\"Helvetica,sans-Serif\" font-size=\"14.00\">value = [2256, 0]</text>\n",
       "</g>\n",
       "<!-- 17&#45;&gt;18 -->\n",
       "<g id=\"edge18\" class=\"edge\">\n",
       "<title>17&#45;&gt;18</title>\n",
       "<path fill=\"none\" stroke=\"black\" d=\"M1064.59,-320.85C1038.18,-293.41 1000.83,-254.61 974.42,-227.16\"/>\n",
       "<polygon fill=\"black\" stroke=\"black\" points=\"976.73,-224.52 967.27,-219.74 971.69,-229.37 976.73,-224.52\"/>\n",
       "</g>\n",
       "<!-- 19 -->\n",
       "<g id=\"node20\" class=\"node\">\n",
       "<title>19</title>\n",
       "<path fill=\"#eb9e67\" stroke=\"black\" d=\"M1158.5,-227C1158.5,-227 1042.5,-227 1042.5,-227 1036.5,-227 1030.5,-221 1030.5,-215 1030.5,-215 1030.5,-171 1030.5,-171 1030.5,-165 1036.5,-159 1042.5,-159 1042.5,-159 1158.5,-159 1158.5,-159 1164.5,-159 1170.5,-165 1170.5,-171 1170.5,-171 1170.5,-215 1170.5,-215 1170.5,-221 1164.5,-227 1158.5,-227\"/>\n",
       "<text text-anchor=\"start\" x=\"1046\" y=\"-211.8\" font-family=\"Helvetica,sans-Serif\" font-size=\"14.00\">stalk root ≤ 2.0</text>\n",
       "<text text-anchor=\"start\" x=\"1065.5\" y=\"-196.8\" font-family=\"Helvetica,sans-Serif\" font-size=\"14.00\">gini = 0.0</text>\n",
       "<text text-anchor=\"start\" x=\"1047.5\" y=\"-181.8\" font-family=\"Helvetica,sans-Serif\" font-size=\"14.00\">samples = 354</text>\n",
       "<text text-anchor=\"start\" x=\"1038.5\" y=\"-166.8\" font-family=\"Helvetica,sans-Serif\" font-size=\"14.00\">value = [287, 67]</text>\n",
       "</g>\n",
       "<!-- 17&#45;&gt;19 -->\n",
       "<g id=\"edge19\" class=\"edge\">\n",
       "<title>17&#45;&gt;19</title>\n",
       "<path fill=\"none\" stroke=\"black\" d=\"M1097.33,-320.85C1097.93,-296.61 1098.76,-263.5 1099.42,-237.19\"/>\n",
       "<polygon fill=\"black\" stroke=\"black\" points=\"1102.92,-237.19 1099.67,-227.11 1095.92,-237.02 1102.92,-237.19\"/>\n",
       "</g>\n",
       "<!-- 20 -->\n",
       "<g id=\"node21\" class=\"node\">\n",
       "<title>20</title>\n",
       "<path fill=\"#e58139\" stroke=\"black\" d=\"M1011,-67.5C1011,-67.5 904,-67.5 904,-67.5 898,-67.5 892,-61.5 892,-55.5 892,-55.5 892,-26.5 892,-26.5 892,-20.5 898,-14.5 904,-14.5 904,-14.5 1011,-14.5 1011,-14.5 1017,-14.5 1023,-20.5 1023,-26.5 1023,-26.5 1023,-55.5 1023,-55.5 1023,-61.5 1017,-67.5 1011,-67.5\"/>\n",
       "<text text-anchor=\"start\" x=\"922.5\" y=\"-52.3\" font-family=\"Helvetica,sans-Serif\" font-size=\"14.00\">gini = 0.0</text>\n",
       "<text text-anchor=\"start\" x=\"904.5\" y=\"-37.3\" font-family=\"Helvetica,sans-Serif\" font-size=\"14.00\">samples = 252</text>\n",
       "<text text-anchor=\"start\" x=\"900\" y=\"-22.3\" font-family=\"Helvetica,sans-Serif\" font-size=\"14.00\">value = [252, 0]</text>\n",
       "</g>\n",
       "<!-- 19&#45;&gt;20 -->\n",
       "<g id=\"edge20\" class=\"edge\">\n",
       "<title>19&#45;&gt;20</title>\n",
       "<path fill=\"none\" stroke=\"black\" d=\"M1068.76,-158.71C1045.05,-133.84 1012.78,-99.99 989.1,-75.15\"/>\n",
       "<polygon fill=\"black\" stroke=\"black\" points=\"991.48,-72.57 982.05,-67.75 986.41,-77.4 991.48,-72.57\"/>\n",
       "</g>\n",
       "<!-- 21 -->\n",
       "<g id=\"node22\" class=\"node\">\n",
       "<title>21</title>\n",
       "<path fill=\"#a0d0f3\" stroke=\"black\" d=\"M1160,-67.5C1160,-67.5 1053,-67.5 1053,-67.5 1047,-67.5 1041,-61.5 1041,-55.5 1041,-55.5 1041,-26.5 1041,-26.5 1041,-20.5 1047,-14.5 1053,-14.5 1053,-14.5 1160,-14.5 1160,-14.5 1166,-14.5 1172,-20.5 1172,-26.5 1172,-26.5 1172,-55.5 1172,-55.5 1172,-61.5 1166,-67.5 1160,-67.5\"/>\n",
       "<text text-anchor=\"start\" x=\"1071.5\" y=\"-52.3\" font-family=\"Helvetica,sans-Serif\" font-size=\"14.00\">gini = 0.0</text>\n",
       "<text text-anchor=\"start\" x=\"1053.5\" y=\"-37.3\" font-family=\"Helvetica,sans-Serif\" font-size=\"14.00\">samples = 102</text>\n",
       "<text text-anchor=\"start\" x=\"1049\" y=\"-22.3\" font-family=\"Helvetica,sans-Serif\" font-size=\"14.00\">value = [35, 67]</text>\n",
       "</g>\n",
       "<!-- 19&#45;&gt;21 -->\n",
       "<g id=\"edge21\" class=\"edge\">\n",
       "<title>19&#45;&gt;21</title>\n",
       "<path fill=\"none\" stroke=\"black\" d=\"M1101.83,-158.71C1102.79,-134.69 1104.09,-102.31 1105.07,-77.75\"/>\n",
       "<polygon fill=\"black\" stroke=\"black\" points=\"1108.57,-77.88 1105.47,-67.75 1101.57,-77.6 1108.57,-77.88\"/>\n",
       "</g>\n",
       "<!-- 23 -->\n",
       "<g id=\"node24\" class=\"node\">\n",
       "<title>23</title>\n",
       "<path fill=\"#fef8f5\" stroke=\"black\" d=\"M1334,-227C1334,-227 1209,-227 1209,-227 1203,-227 1197,-221 1197,-215 1197,-215 1197,-171 1197,-171 1197,-165 1203,-159 1209,-159 1209,-159 1334,-159 1334,-159 1340,-159 1346,-165 1346,-171 1346,-171 1346,-215 1346,-215 1346,-221 1340,-227 1334,-227\"/>\n",
       "<text text-anchor=\"start\" x=\"1233.5\" y=\"-211.8\" font-family=\"Helvetica,sans-Serif\" font-size=\"14.00\">odor ≤ 3.0</text>\n",
       "<text text-anchor=\"start\" x=\"1236.5\" y=\"-196.8\" font-family=\"Helvetica,sans-Serif\" font-size=\"14.00\">gini = 0.0</text>\n",
       "<text text-anchor=\"start\" x=\"1218.5\" y=\"-181.8\" font-family=\"Helvetica,sans-Serif\" font-size=\"14.00\">samples = 296</text>\n",
       "<text text-anchor=\"start\" x=\"1205\" y=\"-166.8\" font-family=\"Helvetica,sans-Serif\" font-size=\"14.00\">value = [152, 144]</text>\n",
       "</g>\n",
       "<!-- 22&#45;&gt;23 -->\n",
       "<g id=\"edge23\" class=\"edge\">\n",
       "<title>22&#45;&gt;23</title>\n",
       "<path fill=\"none\" stroke=\"black\" d=\"M1275.46,-320.85C1274.71,-296.61 1273.67,-263.5 1272.85,-237.19\"/>\n",
       "<polygon fill=\"black\" stroke=\"black\" points=\"1276.35,-237 1272.53,-227.11 1269.35,-237.21 1276.35,-237\"/>\n",
       "</g>\n",
       "<!-- 26 -->\n",
       "<g id=\"node27\" class=\"node\">\n",
       "<title>26</title>\n",
       "<path fill=\"#399de5\" stroke=\"black\" d=\"M1483,-219.5C1483,-219.5 1376,-219.5 1376,-219.5 1370,-219.5 1364,-213.5 1364,-207.5 1364,-207.5 1364,-178.5 1364,-178.5 1364,-172.5 1370,-166.5 1376,-166.5 1376,-166.5 1483,-166.5 1483,-166.5 1489,-166.5 1495,-172.5 1495,-178.5 1495,-178.5 1495,-207.5 1495,-207.5 1495,-213.5 1489,-219.5 1483,-219.5\"/>\n",
       "<text text-anchor=\"start\" x=\"1394.5\" y=\"-204.3\" font-family=\"Helvetica,sans-Serif\" font-size=\"14.00\">gini = 0.0</text>\n",
       "<text text-anchor=\"start\" x=\"1376.5\" y=\"-189.3\" font-family=\"Helvetica,sans-Serif\" font-size=\"14.00\">samples = 180</text>\n",
       "<text text-anchor=\"start\" x=\"1372\" y=\"-174.3\" font-family=\"Helvetica,sans-Serif\" font-size=\"14.00\">value = [0, 180]</text>\n",
       "</g>\n",
       "<!-- 22&#45;&gt;26 -->\n",
       "<g id=\"edge26\" class=\"edge\">\n",
       "<title>22&#45;&gt;26</title>\n",
       "<path fill=\"none\" stroke=\"black\" d=\"M1308.2,-320.85C1334.44,-293.41 1371.55,-254.61 1397.79,-227.16\"/>\n",
       "<polygon fill=\"black\" stroke=\"black\" points=\"1400.5,-229.39 1404.89,-219.74 1395.45,-224.55 1400.5,-229.39\"/>\n",
       "</g>\n",
       "<!-- 24 -->\n",
       "<g id=\"node25\" class=\"node\">\n",
       "<title>24</title>\n",
       "<path fill=\"#73baed\" stroke=\"black\" d=\"M1322.5,-67.5C1322.5,-67.5 1206.5,-67.5 1206.5,-67.5 1200.5,-67.5 1194.5,-61.5 1194.5,-55.5 1194.5,-55.5 1194.5,-26.5 1194.5,-26.5 1194.5,-20.5 1200.5,-14.5 1206.5,-14.5 1206.5,-14.5 1322.5,-14.5 1322.5,-14.5 1328.5,-14.5 1334.5,-20.5 1334.5,-26.5 1334.5,-26.5 1334.5,-55.5 1334.5,-55.5 1334.5,-61.5 1328.5,-67.5 1322.5,-67.5\"/>\n",
       "<text text-anchor=\"start\" x=\"1229.5\" y=\"-52.3\" font-family=\"Helvetica,sans-Serif\" font-size=\"14.00\">gini = 0.0</text>\n",
       "<text text-anchor=\"start\" x=\"1211.5\" y=\"-37.3\" font-family=\"Helvetica,sans-Serif\" font-size=\"14.00\">samples = 142</text>\n",
       "<text text-anchor=\"start\" x=\"1202.5\" y=\"-22.3\" font-family=\"Helvetica,sans-Serif\" font-size=\"14.00\">value = [32, 110]</text>\n",
       "</g>\n",
       "<!-- 23&#45;&gt;24 -->\n",
       "<g id=\"edge24\" class=\"edge\">\n",
       "<title>23&#45;&gt;24</title>\n",
       "<path fill=\"none\" stroke=\"black\" d=\"M1269.95,-158.71C1268.83,-134.69 1267.31,-102.31 1266.17,-77.75\"/>\n",
       "<polygon fill=\"black\" stroke=\"black\" points=\"1269.66,-77.57 1265.7,-67.75 1262.67,-77.9 1269.66,-77.57\"/>\n",
       "</g>\n",
       "<!-- 25 -->\n",
       "<g id=\"node26\" class=\"node\">\n",
       "<title>25</title>\n",
       "<path fill=\"#eca571\" stroke=\"black\" d=\"M1480.5,-67.5C1480.5,-67.5 1364.5,-67.5 1364.5,-67.5 1358.5,-67.5 1352.5,-61.5 1352.5,-55.5 1352.5,-55.5 1352.5,-26.5 1352.5,-26.5 1352.5,-20.5 1358.5,-14.5 1364.5,-14.5 1364.5,-14.5 1480.5,-14.5 1480.5,-14.5 1486.5,-14.5 1492.5,-20.5 1492.5,-26.5 1492.5,-26.5 1492.5,-55.5 1492.5,-55.5 1492.5,-61.5 1486.5,-67.5 1480.5,-67.5\"/>\n",
       "<text text-anchor=\"start\" x=\"1387.5\" y=\"-52.3\" font-family=\"Helvetica,sans-Serif\" font-size=\"14.00\">gini = 0.0</text>\n",
       "<text text-anchor=\"start\" x=\"1369.5\" y=\"-37.3\" font-family=\"Helvetica,sans-Serif\" font-size=\"14.00\">samples = 154</text>\n",
       "<text text-anchor=\"start\" x=\"1360.5\" y=\"-22.3\" font-family=\"Helvetica,sans-Serif\" font-size=\"14.00\">value = [120, 34]</text>\n",
       "</g>\n",
       "<!-- 23&#45;&gt;25 -->\n",
       "<g id=\"edge25\" class=\"edge\">\n",
       "<title>23&#45;&gt;25</title>\n",
       "<path fill=\"none\" stroke=\"black\" d=\"M1305.01,-158.71C1330.16,-133.73 1364.42,-99.7 1389.45,-74.83\"/>\n",
       "<polygon fill=\"black\" stroke=\"black\" points=\"1391.95,-77.28 1396.58,-67.75 1387.02,-72.31 1391.95,-77.28\"/>\n",
       "</g>\n",
       "</g>\n",
       "</svg>\n"
      ],
      "text/plain": [
       "<graphviz.sources.Source at 0x7f342205e910>"
      ]
     },
     "execution_count": 32,
     "metadata": {},
     "output_type": "execute_result"
    }
   ],
   "source": [
    "m = DecisionTreeClassifier(min_samples_leaf=100)\n",
    "m.fit(xs, y)\n",
    "draw_tree(m, xs, size=25)"
   ]
  },
  {
   "cell_type": "code",
   "execution_count": 33,
   "id": "b766e72c-84b5-4ba7-af62-9e914129e7a0",
   "metadata": {},
   "outputs": [
    {
     "data": {
      "text/plain": [
       "0.195971"
      ]
     },
     "execution_count": 33,
     "metadata": {},
     "output_type": "execute_result"
    }
   ],
   "source": [
    "m_rmse(m, xs, y)"
   ]
  },
  {
   "cell_type": "code",
   "execution_count": 34,
   "id": "beadc3fd-b15a-4794-b1f0-e3ade8348149",
   "metadata": {},
   "outputs": [
    {
     "data": {
      "text/plain": [
       "0.215134"
      ]
     },
     "execution_count": 34,
     "metadata": {},
     "output_type": "execute_result"
    }
   ],
   "source": [
    "m_rmse(m, valid_xs, valid_y)"
   ]
  },
  {
   "cell_type": "code",
   "execution_count": 35,
   "id": "1ed8c863-9ea6-4f85-b397-7517ac1b3a3b",
   "metadata": {},
   "outputs": [],
   "source": [
    "from sklearn.ensemble import RandomForestClassifier\n",
    "from sklearn.metrics import mean_absolute_error\n",
    "def rf(xs, y, n_estimators=40, max_samples=6093,\n",
    "       max_features=0.5, min_samples_leaf=5, **kwargs):\n",
    "    return RandomForestClassifier(n_jobs=-1, n_estimators=n_estimators,\n",
    "        max_samples=max_samples, max_features=max_features,\n",
    "        min_samples_leaf=min_samples_leaf, oob_score=True).fit(xs, y)"
   ]
  },
  {
   "cell_type": "code",
   "execution_count": 36,
   "id": "2ff0f879-414f-45e4-a308-e81757412a21",
   "metadata": {},
   "outputs": [],
   "source": [
    "m = rf(xs, y)"
   ]
  },
  {
   "cell_type": "code",
   "execution_count": 37,
   "id": "6e5e1adc-7d5c-43e3-92bb-2869bc080d97",
   "metadata": {},
   "outputs": [],
   "source": [
    "m.fit(xs, y);"
   ]
  },
  {
   "cell_type": "code",
   "execution_count": 38,
   "id": "66abd153-4183-4ce1-9931-e3de7cd24bcf",
   "metadata": {},
   "outputs": [
    {
     "data": {
      "text/plain": [
       "0.0"
      ]
     },
     "execution_count": 38,
     "metadata": {},
     "output_type": "execute_result"
    }
   ],
   "source": [
    "mean_absolute_error(y, m.predict(xs))"
   ]
  },
  {
   "cell_type": "code",
   "execution_count": 39,
   "id": "5cde08da-c15b-4ec0-a0e3-2f56d3481c19",
   "metadata": {},
   "outputs": [
    {
     "data": {
      "text/plain": [
       "0.0"
      ]
     },
     "execution_count": 39,
     "metadata": {},
     "output_type": "execute_result"
    }
   ],
   "source": [
    "mean_absolute_error(valid_y, m.predict(valid_xs))"
   ]
  },
  {
   "cell_type": "markdown",
   "id": "a35b9283-4a69-465a-af23-2850e87839af",
   "metadata": {},
   "source": []
  },
  {
   "cell_type": "code",
   "execution_count": 40,
   "id": "f38edd4c-cd77-4a4f-a75d-ee477ae6eb50",
   "metadata": {},
   "outputs": [
    {
     "name": "stderr",
     "output_type": "stream",
     "text": [
      "/usr/local/lib/python3.9/dist-packages/sklearn/base.py:443: UserWarning: X has feature names, but DecisionTreeClassifier was fitted without feature names\n",
      "  warnings.warn(\n",
      "/usr/local/lib/python3.9/dist-packages/sklearn/base.py:443: UserWarning: X has feature names, but DecisionTreeClassifier was fitted without feature names\n",
      "  warnings.warn(\n",
      "/usr/local/lib/python3.9/dist-packages/sklearn/base.py:443: UserWarning: X has feature names, but DecisionTreeClassifier was fitted without feature names\n",
      "  warnings.warn(\n",
      "/usr/local/lib/python3.9/dist-packages/sklearn/base.py:443: UserWarning: X has feature names, but DecisionTreeClassifier was fitted without feature names\n",
      "  warnings.warn(\n",
      "/usr/local/lib/python3.9/dist-packages/sklearn/base.py:443: UserWarning: X has feature names, but DecisionTreeClassifier was fitted without feature names\n",
      "  warnings.warn(\n",
      "/usr/local/lib/python3.9/dist-packages/sklearn/base.py:443: UserWarning: X has feature names, but DecisionTreeClassifier was fitted without feature names\n",
      "  warnings.warn(\n",
      "/usr/local/lib/python3.9/dist-packages/sklearn/base.py:443: UserWarning: X has feature names, but DecisionTreeClassifier was fitted without feature names\n",
      "  warnings.warn(\n",
      "/usr/local/lib/python3.9/dist-packages/sklearn/base.py:443: UserWarning: X has feature names, but DecisionTreeClassifier was fitted without feature names\n",
      "  warnings.warn(\n",
      "/usr/local/lib/python3.9/dist-packages/sklearn/base.py:443: UserWarning: X has feature names, but DecisionTreeClassifier was fitted without feature names\n",
      "  warnings.warn(\n",
      "/usr/local/lib/python3.9/dist-packages/sklearn/base.py:443: UserWarning: X has feature names, but DecisionTreeClassifier was fitted without feature names\n",
      "  warnings.warn(\n",
      "/usr/local/lib/python3.9/dist-packages/sklearn/base.py:443: UserWarning: X has feature names, but DecisionTreeClassifier was fitted without feature names\n",
      "  warnings.warn(\n",
      "/usr/local/lib/python3.9/dist-packages/sklearn/base.py:443: UserWarning: X has feature names, but DecisionTreeClassifier was fitted without feature names\n",
      "  warnings.warn(\n",
      "/usr/local/lib/python3.9/dist-packages/sklearn/base.py:443: UserWarning: X has feature names, but DecisionTreeClassifier was fitted without feature names\n",
      "  warnings.warn(\n",
      "/usr/local/lib/python3.9/dist-packages/sklearn/base.py:443: UserWarning: X has feature names, but DecisionTreeClassifier was fitted without feature names\n",
      "  warnings.warn(\n",
      "/usr/local/lib/python3.9/dist-packages/sklearn/base.py:443: UserWarning: X has feature names, but DecisionTreeClassifier was fitted without feature names\n",
      "  warnings.warn(\n",
      "/usr/local/lib/python3.9/dist-packages/sklearn/base.py:443: UserWarning: X has feature names, but DecisionTreeClassifier was fitted without feature names\n",
      "  warnings.warn(\n",
      "/usr/local/lib/python3.9/dist-packages/sklearn/base.py:443: UserWarning: X has feature names, but DecisionTreeClassifier was fitted without feature names\n",
      "  warnings.warn(\n",
      "/usr/local/lib/python3.9/dist-packages/sklearn/base.py:443: UserWarning: X has feature names, but DecisionTreeClassifier was fitted without feature names\n",
      "  warnings.warn(\n",
      "/usr/local/lib/python3.9/dist-packages/sklearn/base.py:443: UserWarning: X has feature names, but DecisionTreeClassifier was fitted without feature names\n",
      "  warnings.warn(\n",
      "/usr/local/lib/python3.9/dist-packages/sklearn/base.py:443: UserWarning: X has feature names, but DecisionTreeClassifier was fitted without feature names\n",
      "  warnings.warn(\n",
      "/usr/local/lib/python3.9/dist-packages/sklearn/base.py:443: UserWarning: X has feature names, but DecisionTreeClassifier was fitted without feature names\n",
      "  warnings.warn(\n",
      "/usr/local/lib/python3.9/dist-packages/sklearn/base.py:443: UserWarning: X has feature names, but DecisionTreeClassifier was fitted without feature names\n",
      "  warnings.warn(\n",
      "/usr/local/lib/python3.9/dist-packages/sklearn/base.py:443: UserWarning: X has feature names, but DecisionTreeClassifier was fitted without feature names\n",
      "  warnings.warn(\n",
      "/usr/local/lib/python3.9/dist-packages/sklearn/base.py:443: UserWarning: X has feature names, but DecisionTreeClassifier was fitted without feature names\n",
      "  warnings.warn(\n",
      "/usr/local/lib/python3.9/dist-packages/sklearn/base.py:443: UserWarning: X has feature names, but DecisionTreeClassifier was fitted without feature names\n",
      "  warnings.warn(\n",
      "/usr/local/lib/python3.9/dist-packages/sklearn/base.py:443: UserWarning: X has feature names, but DecisionTreeClassifier was fitted without feature names\n",
      "  warnings.warn(\n",
      "/usr/local/lib/python3.9/dist-packages/sklearn/base.py:443: UserWarning: X has feature names, but DecisionTreeClassifier was fitted without feature names\n",
      "  warnings.warn(\n",
      "/usr/local/lib/python3.9/dist-packages/sklearn/base.py:443: UserWarning: X has feature names, but DecisionTreeClassifier was fitted without feature names\n",
      "  warnings.warn(\n",
      "/usr/local/lib/python3.9/dist-packages/sklearn/base.py:443: UserWarning: X has feature names, but DecisionTreeClassifier was fitted without feature names\n",
      "  warnings.warn(\n",
      "/usr/local/lib/python3.9/dist-packages/sklearn/base.py:443: UserWarning: X has feature names, but DecisionTreeClassifier was fitted without feature names\n",
      "  warnings.warn(\n",
      "/usr/local/lib/python3.9/dist-packages/sklearn/base.py:443: UserWarning: X has feature names, but DecisionTreeClassifier was fitted without feature names\n",
      "  warnings.warn(\n",
      "/usr/local/lib/python3.9/dist-packages/sklearn/base.py:443: UserWarning: X has feature names, but DecisionTreeClassifier was fitted without feature names\n",
      "  warnings.warn(\n",
      "/usr/local/lib/python3.9/dist-packages/sklearn/base.py:443: UserWarning: X has feature names, but DecisionTreeClassifier was fitted without feature names\n",
      "  warnings.warn(\n",
      "/usr/local/lib/python3.9/dist-packages/sklearn/base.py:443: UserWarning: X has feature names, but DecisionTreeClassifier was fitted without feature names\n",
      "  warnings.warn(\n",
      "/usr/local/lib/python3.9/dist-packages/sklearn/base.py:443: UserWarning: X has feature names, but DecisionTreeClassifier was fitted without feature names\n",
      "  warnings.warn(\n",
      "/usr/local/lib/python3.9/dist-packages/sklearn/base.py:443: UserWarning: X has feature names, but DecisionTreeClassifier was fitted without feature names\n",
      "  warnings.warn(\n",
      "/usr/local/lib/python3.9/dist-packages/sklearn/base.py:443: UserWarning: X has feature names, but DecisionTreeClassifier was fitted without feature names\n",
      "  warnings.warn(\n",
      "/usr/local/lib/python3.9/dist-packages/sklearn/base.py:443: UserWarning: X has feature names, but DecisionTreeClassifier was fitted without feature names\n",
      "  warnings.warn(\n",
      "/usr/local/lib/python3.9/dist-packages/sklearn/base.py:443: UserWarning: X has feature names, but DecisionTreeClassifier was fitted without feature names\n",
      "  warnings.warn(\n",
      "/usr/local/lib/python3.9/dist-packages/sklearn/base.py:443: UserWarning: X has feature names, but DecisionTreeClassifier was fitted without feature names\n",
      "  warnings.warn(\n"
     ]
    }
   ],
   "source": [
    "preds = np.stack([t.predict(valid_xs) for t in m.estimators_])"
   ]
  },
  {
   "cell_type": "code",
   "execution_count": 41,
   "id": "3fc5e50e-59d9-4859-976a-1aa92bdf61d6",
   "metadata": {},
   "outputs": [
    {
     "data": {
      "text/plain": [
       "0.013622"
      ]
     },
     "execution_count": 41,
     "metadata": {},
     "output_type": "execute_result"
    }
   ],
   "source": [
    "r_mse(preds.mean(0), valid_y)"
   ]
  },
  {
   "cell_type": "code",
   "execution_count": 42,
   "id": "02594da7-b380-48da-8729-c130f621814e",
   "metadata": {},
   "outputs": [
    {
     "data": {
      "image/png": "[encoded data removed]",
      "text/plain": [
       "<Figure size 432x288 with 1 Axes>"
      ]
     },
     "metadata": {
      "needs_background": "light"
     },
     "output_type": "display_data"
    }
   ],
   "source": [
    "plt.plot([r_mse(preds[:i+1].mean(0), valid_y) for i in range(40)]);"
   ]
  },
  {
   "cell_type": "code",
   "execution_count": 43,
   "id": "44a2ef6b-31b1-45cb-86ae-bf684914a39d",
   "metadata": {},
   "outputs": [],
   "source": [
    "def rf_feat_importance(m, df):\n",
    "    return pd.DataFrame({'cols':df.columns, 'imp':m.feature_importances_}\n",
    "                       ).sort_values('imp', ascending=False)"
   ]
  },
  {
   "cell_type": "code",
   "execution_count": 44,
   "id": "a615f051-bd1d-46ab-b3f8-3ea0c6d14096",
   "metadata": {},
   "outputs": [
    {
     "data": {
      "text/html": [
       "<div>\n",
       "<style scoped>\n",
       "    .dataframe tbody tr th:only-of-type {\n",
       "        vertical-align: middle;\n",
       "    }\n",
       "\n",
       "    .dataframe tbody tr th {\n",
       "        vertical-align: top;\n",
       "    }\n",
       "\n",
       "    .dataframe thead th {\n",
       "        text-align: right;\n",
       "    }\n",
       "</style>\n",
       "<table border=\"1\" class=\"dataframe\">\n",
       "  <thead>\n",
       "    <tr style=\"text-align: right;\">\n",
       "      <th></th>\n",
       "      <th>cols</th>\n",
       "      <th>imp</th>\n",
       "    </tr>\n",
       "  </thead>\n",
       "  <tbody>\n",
       "    <tr>\n",
       "      <th>4</th>\n",
       "      <td>odor</td>\n",
       "      <td>0.228368</td>\n",
       "    </tr>\n",
       "    <tr>\n",
       "      <th>8</th>\n",
       "      <td>gill color</td>\n",
       "      <td>0.200356</td>\n",
       "    </tr>\n",
       "    <tr>\n",
       "      <th>19</th>\n",
       "      <td>spore print color</td>\n",
       "      <td>0.105279</td>\n",
       "    </tr>\n",
       "    <tr>\n",
       "      <th>7</th>\n",
       "      <td>gill size</td>\n",
       "      <td>0.097535</td>\n",
       "    </tr>\n",
       "    <tr>\n",
       "      <th>20</th>\n",
       "      <td>population</td>\n",
       "      <td>0.089184</td>\n",
       "    </tr>\n",
       "    <tr>\n",
       "      <th>10</th>\n",
       "      <td>stalk root</td>\n",
       "      <td>0.056267</td>\n",
       "    </tr>\n",
       "    <tr>\n",
       "      <th>6</th>\n",
       "      <td>gill spacing</td>\n",
       "      <td>0.040737</td>\n",
       "    </tr>\n",
       "    <tr>\n",
       "      <th>18</th>\n",
       "      <td>ring type</td>\n",
       "      <td>0.040469</td>\n",
       "    </tr>\n",
       "    <tr>\n",
       "      <th>11</th>\n",
       "      <td>stalk surface above the ring</td>\n",
       "      <td>0.028178</td>\n",
       "    </tr>\n",
       "    <tr>\n",
       "      <th>9</th>\n",
       "      <td>stalk shape</td>\n",
       "      <td>0.017771</td>\n",
       "    </tr>\n",
       "  </tbody>\n",
       "</table>\n",
       "</div>"
      ],
      "text/plain": [
       "                            cols       imp\n",
       "4                           odor  0.228368\n",
       "8                     gill color  0.200356\n",
       "19             spore print color  0.105279\n",
       "7                      gill size  0.097535\n",
       "20                    population  0.089184\n",
       "10                    stalk root  0.056267\n",
       "6                   gill spacing  0.040737\n",
       "18                     ring type  0.040469\n",
       "11  stalk surface above the ring  0.028178\n",
       "9                    stalk shape  0.017771"
      ]
     },
     "execution_count": 44,
     "metadata": {},
     "output_type": "execute_result"
    }
   ],
   "source": [
    "fi = rf_feat_importance(m, xs)\n",
    "fi[:10]"
   ]
  },
  {
   "cell_type": "code",
   "execution_count": 45,
   "id": "05222b55-ccd8-4ca9-91e5-50d99a70f365",
   "metadata": {},
   "outputs": [
    {
     "data": {
      "image/png": "[encoded data removed]",
      "text/plain": [
       "<Figure size 864x504 with 1 Axes>"
      ]
     },
     "metadata": {
      "needs_background": "light"
     },
     "output_type": "display_data"
    }
   ],
   "source": [
    "def plot_fi(fi):\n",
    "    return fi.plot('cols', 'imp', 'barh', figsize=(12,7), legend=False)\n",
    "\n",
    "plot_fi(fi[:30]);"
   ]
  },
  {
   "cell_type": "code",
   "execution_count": 46,
   "id": "e352452c-4453-43d2-b6d8-73d85fdd2fc5",
   "metadata": {},
   "outputs": [
    {
     "data": {
      "text/plain": [
       "18"
      ]
     },
     "execution_count": 46,
     "metadata": {},
     "output_type": "execute_result"
    }
   ],
   "source": [
    "to_keep = fi[fi.imp>0.005].cols\n",
    "len(to_keep)"
   ]
  },
  {
   "cell_type": "code",
   "execution_count": 47,
   "id": "4256646e-1301-470e-8274-ee1b8786a4dc",
   "metadata": {},
   "outputs": [],
   "source": [
    "xs_imp = xs[to_keep]\n",
    "valid_xs_imp = valid_xs[to_keep]"
   ]
  },
  {
   "cell_type": "code",
   "execution_count": 48,
   "id": "36418e26-3728-49b5-93f2-118d9933be9e",
   "metadata": {},
   "outputs": [],
   "source": [
    "m = rf(xs_imp, y)"
   ]
  },
  {
   "cell_type": "code",
   "execution_count": 49,
   "id": "a857638a-2ef0-4e09-b61e-4c3793941e80",
   "metadata": {},
   "outputs": [
    {
     "data": {
      "text/plain": [
       "(0.0, 0.0)"
      ]
     },
     "execution_count": 49,
     "metadata": {},
     "output_type": "execute_result"
    }
   ],
   "source": [
    "m_rmse(m, xs_imp, y), m_rmse(m, valid_xs_imp, valid_y)"
   ]
  },
  {
   "cell_type": "code",
   "execution_count": 50,
   "id": "3e22b3b1-e8a9-4030-90aa-940493eebb2d",
   "metadata": {},
   "outputs": [
    {
     "data": {
      "text/plain": [
       "(22, 18)"
      ]
     },
     "execution_count": 50,
     "metadata": {},
     "output_type": "execute_result"
    }
   ],
   "source": [
    "len(xs.columns), len(xs_imp.columns)"
   ]
  },
  {
   "cell_type": "code",
   "execution_count": 51,
   "id": "24811aa2-6d86-47c8-afeb-5893dfb13fa1",
   "metadata": {},
   "outputs": [
    {
     "data": {
      "image/png": "[encoded data removed]",
      "text/plain": [
       "<Figure size 720x432 with 1 Axes>"
      ]
     },
     "metadata": {
      "needs_background": "light"
     },
     "output_type": "display_data"
    }
   ],
   "source": [
    "cluster_columns(xs_imp)"
   ]
  },
  {
   "cell_type": "code",
   "execution_count": 52,
   "id": "90401c49-e642-4445-bbf7-5a54827bf4d2",
   "metadata": {},
   "outputs": [
    {
     "data": {
      "image/png": "[encoded data removed]",
      "text/plain": [
       "<Figure size 432x288 with 1 Axes>"
      ]
     },
     "metadata": {
      "needs_background": "light"
     },
     "output_type": "display_data"
    }
   ],
   "source": [
    "\n",
    "ax = mushroom['gill color'].hist()"
   ]
  },
  {
   "cell_type": "code",
   "execution_count": 53,
   "id": "ccadcfbc-a799-4e37-b362-052ab0097c35",
   "metadata": {},
   "outputs": [],
   "source": [
    "save_pickle(\"mushroom_final.pkl\", xs_imp)"
   ]
  },
  {
   "cell_type": "code",
   "execution_count": 54,
   "id": "22d7c3b2-0a77-412b-8bbd-5f3e4e0760b4",
   "metadata": {},
   "outputs": [],
   "source": [
    "mushroom2 = load_pickle(\"mushroom_final.pkl\")"
   ]
  },
  {
   "cell_type": "code",
   "execution_count": 55,
   "id": "edd8ec86-2001-4ffc-bee3-cf910e8aa673",
   "metadata": {},
   "outputs": [
    {
     "data": {
      "text/html": [
       "<div>\n",
       "<style scoped>\n",
       "    .dataframe tbody tr th:only-of-type {\n",
       "        vertical-align: middle;\n",
       "    }\n",
       "\n",
       "    .dataframe tbody tr th {\n",
       "        vertical-align: top;\n",
       "    }\n",
       "\n",
       "    .dataframe thead th {\n",
       "        text-align: right;\n",
       "    }\n",
       "</style>\n",
       "<table border=\"1\" class=\"dataframe\">\n",
       "  <thead>\n",
       "    <tr style=\"text-align: right;\">\n",
       "      <th></th>\n",
       "      <th>odor</th>\n",
       "      <th>gill color</th>\n",
       "    </tr>\n",
       "  </thead>\n",
       "  <tbody>\n",
       "    <tr>\n",
       "      <th>3887</th>\n",
       "      <td>2</td>\n",
       "      <td>6</td>\n",
       "    </tr>\n",
       "    <tr>\n",
       "      <th>4119</th>\n",
       "      <td>3</td>\n",
       "      <td>4</td>\n",
       "    </tr>\n",
       "    <tr>\n",
       "      <th>1600</th>\n",
       "      <td>6</td>\n",
       "      <td>6</td>\n",
       "    </tr>\n",
       "    <tr>\n",
       "      <th>4988</th>\n",
       "      <td>3</td>\n",
       "      <td>8</td>\n",
       "    </tr>\n",
       "    <tr>\n",
       "      <th>6757</th>\n",
       "      <td>3</td>\n",
       "      <td>1</td>\n",
       "    </tr>\n",
       "    <tr>\n",
       "      <th>...</th>\n",
       "      <td>...</td>\n",
       "      <td>...</td>\n",
       "    </tr>\n",
       "    <tr>\n",
       "      <th>5226</th>\n",
       "      <td>3</td>\n",
       "      <td>1</td>\n",
       "    </tr>\n",
       "    <tr>\n",
       "      <th>5390</th>\n",
       "      <td>6</td>\n",
       "      <td>11</td>\n",
       "    </tr>\n",
       "    <tr>\n",
       "      <th>860</th>\n",
       "      <td>4</td>\n",
       "      <td>11</td>\n",
       "    </tr>\n",
       "    <tr>\n",
       "      <th>7603</th>\n",
       "      <td>3</td>\n",
       "      <td>1</td>\n",
       "    </tr>\n",
       "    <tr>\n",
       "      <th>7270</th>\n",
       "      <td>6</td>\n",
       "      <td>3</td>\n",
       "    </tr>\n",
       "  </tbody>\n",
       "</table>\n",
       "<p>6093 rows × 2 columns</p>\n",
       "</div>"
      ],
      "text/plain": [
       "      odor  gill color\n",
       "3887     2           6\n",
       "4119     3           4\n",
       "1600     6           6\n",
       "4988     3           8\n",
       "6757     3           1\n",
       "...    ...         ...\n",
       "5226     3           1\n",
       "5390     6          11\n",
       "860      4          11\n",
       "7603     3           1\n",
       "7270     6           3\n",
       "\n",
       "[6093 rows x 2 columns]"
      ]
     },
     "execution_count": 55,
     "metadata": {},
     "output_type": "execute_result"
    }
   ],
   "source": [
    "xs[[\"odor\",\"gill color\"]]"
   ]
  },
  {
   "cell_type": "code",
   "execution_count": 56,
   "id": "a90f678d-8965-4c68-8432-8c0bc0659cba",
   "metadata": {},
   "outputs": [
    {
     "data": {
      "image/png": "[encoded data removed]",
      "text/plain": [
       "<Figure size 864x288 with 3 Axes>"
      ]
     },
     "metadata": {
      "needs_background": "light"
     },
     "output_type": "display_data"
    }
   ],
   "source": [
    "from sklearn.inspection import PartialDependenceDisplay\n",
    "\n",
    "fig,ax = plt.subplots(figsize=(12, 4))\n",
    "PartialDependenceDisplay.from_estimator(m, mushroom2, mushroom2[[\"odor\", \"gill color\"]],\n",
    "                        grid_resolution=20, ax=ax);"
   ]
  },
  {
   "cell_type": "markdown",
   "id": "d71533b6-864c-47b5-b591-f4089b508d53",
   "metadata": {},
   "source": [
    "### Compare to Deep Learning"
   ]
  },
  {
   "cell_type": "code",
   "execution_count": 59,
   "id": "b1255ec1-44b3-4f36-8044-ea2087c01c14",
   "metadata": {},
   "outputs": [],
   "source": [
    "dls = to.dataloaders(bs=64)"
   ]
  },
  {
   "cell_type": "code",
   "execution_count": 62,
   "id": "0bb96b98-c62f-421c-8295-5f49ec0e3086",
   "metadata": {},
   "outputs": [],
   "source": [
    "learn = tabular_learner(dls, metrics=accuracy)"
   ]
  },
  {
   "cell_type": "code",
   "execution_count": 64,
   "id": "43b880ef-d1c8-4050-bf21-cb51733a022e",
   "metadata": {},
   "outputs": [
    {
     "data": {
      "text/html": [
       "\n",
       "<style>\n",
       "    /* Turns off some styling */\n",
       "    progress {\n",
       "        /* gets rid of default border in Firefox and Opera. */\n",
       "        border: none;\n",
       "        /* Needs to be in here for Safari polyfill so background images work as expected. */\n",
       "        background-size: auto;\n",
       "    }\n",
       "    progress:not([value]), progress:not([value])::-webkit-progress-bar {\n",
       "        background: repeating-linear-gradient(45deg, #7e7e7e, #7e7e7e 10px, #5c5c5c 10px, #5c5c5c 20px);\n",
       "    }\n",
       "    .progress-bar-interrupted, .progress-bar-interrupted::-webkit-progress-bar {\n",
       "        background: #F44336;\n",
       "    }\n",
       "</style>\n"
      ],
      "text/plain": [
       "<IPython.core.display.HTML object>"
      ]
     },
     "metadata": {},
     "output_type": "display_data"
    },
    {
     "data": {
      "text/html": [
       "<table border=\"1\" class=\"dataframe\">\n",
       "  <thead>\n",
       "    <tr style=\"text-align: left;\">\n",
       "      <th>epoch</th>\n",
       "      <th>train_loss</th>\n",
       "      <th>valid_loss</th>\n",
       "      <th>accuracy</th>\n",
       "      <th>time</th>\n",
       "    </tr>\n",
       "  </thead>\n",
       "  <tbody>\n",
       "    <tr>\n",
       "      <td>0</td>\n",
       "      <td>0.003987</td>\n",
       "      <td>0.000673</td>\n",
       "      <td>1.000000</td>\n",
       "      <td>00:01</td>\n",
       "    </tr>\n",
       "    <tr>\n",
       "      <td>1</td>\n",
       "      <td>0.001382</td>\n",
       "      <td>0.000442</td>\n",
       "      <td>1.000000</td>\n",
       "      <td>00:01</td>\n",
       "    </tr>\n",
       "  </tbody>\n",
       "</table>"
      ],
      "text/plain": [
       "<IPython.core.display.HTML object>"
      ]
     },
     "metadata": {},
     "output_type": "display_data"
    }
   ],
   "source": [
    "learn.fit_one_cycle(2)"
   ]
  },
  {
   "cell_type": "code",
   "execution_count": 65,
   "id": "bb6f728e-06f6-4717-b117-c65226e4c70a",
   "metadata": {},
   "outputs": [
    {
     "data": {
      "text/html": [
       "\n",
       "<style>\n",
       "    /* Turns off some styling */\n",
       "    progress {\n",
       "        /* gets rid of default border in Firefox and Opera. */\n",
       "        border: none;\n",
       "        /* Needs to be in here for Safari polyfill so background images work as expected. */\n",
       "        background-size: auto;\n",
       "    }\n",
       "    progress:not([value]), progress:not([value])::-webkit-progress-bar {\n",
       "        background: repeating-linear-gradient(45deg, #7e7e7e, #7e7e7e 10px, #5c5c5c 10px, #5c5c5c 20px);\n",
       "    }\n",
       "    .progress-bar-interrupted, .progress-bar-interrupted::-webkit-progress-bar {\n",
       "        background: #F44336;\n",
       "    }\n",
       "</style>\n"
      ],
      "text/plain": [
       "<IPython.core.display.HTML object>"
      ]
     },
     "metadata": {},
     "output_type": "display_data"
    },
    {
     "data": {
      "text/html": [],
      "text/plain": [
       "<IPython.core.display.HTML object>"
      ]
     },
     "metadata": {},
     "output_type": "display_data"
    },
    {
     "data": {
      "text/html": [
       "<table border=\"1\" class=\"dataframe\">\n",
       "  <thead>\n",
       "    <tr style=\"text-align: right;\">\n",
       "      <th></th>\n",
       "      <th>cap shape</th>\n",
       "      <th>cap surface</th>\n",
       "      <th>cap color</th>\n",
       "      <th>bruises</th>\n",
       "      <th>odor</th>\n",
       "      <th>gill attachment</th>\n",
       "      <th>gill spacing</th>\n",
       "      <th>gill size</th>\n",
       "      <th>gill color</th>\n",
       "      <th>stalk shape</th>\n",
       "      <th>stalk root</th>\n",
       "      <th>stalk surface above the ring</th>\n",
       "      <th>stalk surface below the ring</th>\n",
       "      <th>stalk color below the ring</th>\n",
       "      <th>stalk color above the ring</th>\n",
       "      <th>veil type</th>\n",
       "      <th>veil color</th>\n",
       "      <th>ring number</th>\n",
       "      <th>ring type</th>\n",
       "      <th>spore print color</th>\n",
       "      <th>population</th>\n",
       "      <th>habitat</th>\n",
       "      <th>edible or poisonous</th>\n",
       "      <th>edible or poisonous_pred</th>\n",
       "    </tr>\n",
       "  </thead>\n",
       "  <tbody>\n",
       "    <tr>\n",
       "      <th>0</th>\n",
       "      <td>3</td>\n",
       "      <td>4</td>\n",
       "      <td>3</td>\n",
       "      <td>2</td>\n",
       "      <td>6</td>\n",
       "      <td>2</td>\n",
       "      <td>1</td>\n",
       "      <td>1</td>\n",
       "      <td>8</td>\n",
       "      <td>2</td>\n",
       "      <td>2</td>\n",
       "      <td>3</td>\n",
       "      <td>3</td>\n",
       "      <td>8</td>\n",
       "      <td>4</td>\n",
       "      <td>1</td>\n",
       "      <td>3</td>\n",
       "      <td>2</td>\n",
       "      <td>5</td>\n",
       "      <td>3</td>\n",
       "      <td>5</td>\n",
       "      <td>1</td>\n",
       "      <td>0</td>\n",
       "      <td>0</td>\n",
       "    </tr>\n",
       "    <tr>\n",
       "      <th>1</th>\n",
       "      <td>3</td>\n",
       "      <td>4</td>\n",
       "      <td>10</td>\n",
       "      <td>1</td>\n",
       "      <td>3</td>\n",
       "      <td>2</td>\n",
       "      <td>1</td>\n",
       "      <td>1</td>\n",
       "      <td>8</td>\n",
       "      <td>1</td>\n",
       "      <td>2</td>\n",
       "      <td>2</td>\n",
       "      <td>2</td>\n",
       "      <td>1</td>\n",
       "      <td>5</td>\n",
       "      <td>1</td>\n",
       "      <td>3</td>\n",
       "      <td>2</td>\n",
       "      <td>3</td>\n",
       "      <td>2</td>\n",
       "      <td>6</td>\n",
       "      <td>5</td>\n",
       "      <td>1</td>\n",
       "      <td>1</td>\n",
       "    </tr>\n",
       "    <tr>\n",
       "      <th>2</th>\n",
       "      <td>6</td>\n",
       "      <td>1</td>\n",
       "      <td>4</td>\n",
       "      <td>1</td>\n",
       "      <td>3</td>\n",
       "      <td>2</td>\n",
       "      <td>1</td>\n",
       "      <td>1</td>\n",
       "      <td>8</td>\n",
       "      <td>1</td>\n",
       "      <td>2</td>\n",
       "      <td>2</td>\n",
       "      <td>2</td>\n",
       "      <td>5</td>\n",
       "      <td>1</td>\n",
       "      <td>1</td>\n",
       "      <td>3</td>\n",
       "      <td>2</td>\n",
       "      <td>3</td>\n",
       "      <td>2</td>\n",
       "      <td>5</td>\n",
       "      <td>5</td>\n",
       "      <td>1</td>\n",
       "      <td>1</td>\n",
       "    </tr>\n",
       "    <tr>\n",
       "      <th>3</th>\n",
       "      <td>6</td>\n",
       "      <td>4</td>\n",
       "      <td>3</td>\n",
       "      <td>1</td>\n",
       "      <td>8</td>\n",
       "      <td>2</td>\n",
       "      <td>1</td>\n",
       "      <td>2</td>\n",
       "      <td>1</td>\n",
       "      <td>2</td>\n",
       "      <td>1</td>\n",
       "      <td>3</td>\n",
       "      <td>3</td>\n",
       "      <td>7</td>\n",
       "      <td>7</td>\n",
       "      <td>1</td>\n",
       "      <td>3</td>\n",
       "      <td>2</td>\n",
       "      <td>1</td>\n",
       "      <td>8</td>\n",
       "      <td>5</td>\n",
       "      <td>1</td>\n",
       "      <td>1</td>\n",
       "      <td>1</td>\n",
       "    </tr>\n",
       "    <tr>\n",
       "      <th>4</th>\n",
       "      <td>6</td>\n",
       "      <td>4</td>\n",
       "      <td>4</td>\n",
       "      <td>1</td>\n",
       "      <td>3</td>\n",
       "      <td>2</td>\n",
       "      <td>1</td>\n",
       "      <td>1</td>\n",
       "      <td>8</td>\n",
       "      <td>1</td>\n",
       "      <td>2</td>\n",
       "      <td>2</td>\n",
       "      <td>2</td>\n",
       "      <td>5</td>\n",
       "      <td>5</td>\n",
       "      <td>1</td>\n",
       "      <td>3</td>\n",
       "      <td>2</td>\n",
       "      <td>3</td>\n",
       "      <td>2</td>\n",
       "      <td>6</td>\n",
       "      <td>5</td>\n",
       "      <td>1</td>\n",
       "      <td>1</td>\n",
       "    </tr>\n",
       "    <tr>\n",
       "      <th>5</th>\n",
       "      <td>4</td>\n",
       "      <td>4</td>\n",
       "      <td>2</td>\n",
       "      <td>1</td>\n",
       "      <td>5</td>\n",
       "      <td>1</td>\n",
       "      <td>1</td>\n",
       "      <td>1</td>\n",
       "      <td>12</td>\n",
       "      <td>1</td>\n",
       "      <td>3</td>\n",
       "      <td>2</td>\n",
       "      <td>4</td>\n",
       "      <td>2</td>\n",
       "      <td>2</td>\n",
       "      <td>1</td>\n",
       "      <td>3</td>\n",
       "      <td>1</td>\n",
       "      <td>4</td>\n",
       "      <td>8</td>\n",
       "      <td>2</td>\n",
       "      <td>1</td>\n",
       "      <td>1</td>\n",
       "      <td>1</td>\n",
       "    </tr>\n",
       "    <tr>\n",
       "      <th>6</th>\n",
       "      <td>3</td>\n",
       "      <td>3</td>\n",
       "      <td>4</td>\n",
       "      <td>2</td>\n",
       "      <td>3</td>\n",
       "      <td>2</td>\n",
       "      <td>1</td>\n",
       "      <td>1</td>\n",
       "      <td>11</td>\n",
       "      <td>2</td>\n",
       "      <td>2</td>\n",
       "      <td>3</td>\n",
       "      <td>1</td>\n",
       "      <td>8</td>\n",
       "      <td>8</td>\n",
       "      <td>1</td>\n",
       "      <td>3</td>\n",
       "      <td>2</td>\n",
       "      <td>5</td>\n",
       "      <td>2</td>\n",
       "      <td>4</td>\n",
       "      <td>2</td>\n",
       "      <td>1</td>\n",
       "      <td>1</td>\n",
       "    </tr>\n",
       "    <tr>\n",
       "      <th>7</th>\n",
       "      <td>3</td>\n",
       "      <td>4</td>\n",
       "      <td>10</td>\n",
       "      <td>1</td>\n",
       "      <td>3</td>\n",
       "      <td>2</td>\n",
       "      <td>1</td>\n",
       "      <td>1</td>\n",
       "      <td>3</td>\n",
       "      <td>1</td>\n",
       "      <td>2</td>\n",
       "      <td>2</td>\n",
       "      <td>2</td>\n",
       "      <td>1</td>\n",
       "      <td>7</td>\n",
       "      <td>1</td>\n",
       "      <td>3</td>\n",
       "      <td>2</td>\n",
       "      <td>3</td>\n",
       "      <td>2</td>\n",
       "      <td>5</td>\n",
       "      <td>1</td>\n",
       "      <td>1</td>\n",
       "      <td>1</td>\n",
       "    </tr>\n",
       "    <tr>\n",
       "      <th>8</th>\n",
       "      <td>6</td>\n",
       "      <td>4</td>\n",
       "      <td>3</td>\n",
       "      <td>2</td>\n",
       "      <td>6</td>\n",
       "      <td>2</td>\n",
       "      <td>1</td>\n",
       "      <td>1</td>\n",
       "      <td>8</td>\n",
       "      <td>2</td>\n",
       "      <td>2</td>\n",
       "      <td>3</td>\n",
       "      <td>3</td>\n",
       "      <td>7</td>\n",
       "      <td>4</td>\n",
       "      <td>1</td>\n",
       "      <td>3</td>\n",
       "      <td>2</td>\n",
       "      <td>5</td>\n",
       "      <td>3</td>\n",
       "      <td>5</td>\n",
       "      <td>1</td>\n",
       "      <td>0</td>\n",
       "      <td>0</td>\n",
       "    </tr>\n",
       "  </tbody>\n",
       "</table>"
      ],
      "text/plain": [
       "<IPython.core.display.HTML object>"
      ]
     },
     "metadata": {},
     "output_type": "display_data"
    }
   ],
   "source": [
    "learn.show_results()"
   ]
  },
  {
   "cell_type": "code",
   "execution_count": null,
   "id": "518d4562-7ed7-40be-96c0-dfe054b93853",
   "metadata": {},
   "outputs": [],
   "source": []
  }
 ],
 "metadata": {
  "kernelspec": {
   "display_name": "Python 3 (ipykernel)",
   "language": "python",
   "name": "python3"
  },
  "language_info": {
   "codemirror_mode": {
    "name": "ipython",
    "version": 3
   },
   "file_extension": ".py",
   "mimetype": "text/x-python",
   "name": "python",
   "nbconvert_exporter": "python",
   "pygments_lexer": "ipython3",
   "version": "3.9.13"
  }
 },
 "nbformat": 4,
 "nbformat_minor": 5
}
